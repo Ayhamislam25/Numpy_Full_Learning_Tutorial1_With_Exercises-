{
  "cells": [
    {
      "cell_type": "markdown",
      "metadata": {
        "id": "MRelccYod7Kx"
      },
      "source": [
        "### import numpy"
      ]
    },
    {
      "cell_type": "code",
      "execution_count": null,
      "metadata": {
        "id": "J7Z-bbF3d7Kz"
      },
      "outputs": [],
      "source": [
        "import numpy as np"
      ]
    },
    {
      "cell_type": "markdown",
      "metadata": {
        "id": "o6KAobCRd7K0"
      },
      "source": [
        "### check python and numpy version"
      ]
    },
    {
      "cell_type": "code",
      "execution_count": null,
      "metadata": {
        "id": "prpiYrzHd7K0",
        "outputId": "d23acc36-73bf-45ec-8111-dffec71cb7de"
      },
      "outputs": [
        {
          "name": "stdout",
          "output_type": "stream",
          "text": [
            "Python version: 3.6.6\n",
            "Numpy version: 1.15.0\n"
          ]
        }
      ],
      "source": [
        "import platform\n",
        "print('Python version: ' + platform.python_version())\n",
        "print('Numpy version: ' + np.__version__)"
      ]
    },
    {
      "cell_type": "markdown",
      "metadata": {
        "id": "EEn34VRkd7K0"
      },
      "source": [
        "# 0. Numpy Data Types"
      ]
    },
    {
      "cell_type": "markdown",
      "metadata": {
        "id": "PsSbChNsd7K1"
      },
      "source": [
        "### A list of Numpy Data Types"
      ]
    },
    {
      "cell_type": "code",
      "execution_count": null,
      "metadata": {
        "id": "6iiN9Fs4d7K1",
        "outputId": "ad3be6c9-683a-4231-9dfa-b94b64121302"
      },
      "outputs": [
        {
          "data": {
            "text/html": [
              "<div>\n",
              "<style scoped>\n",
              "    .dataframe tbody tr th:only-of-type {\n",
              "        vertical-align: middle;\n",
              "    }\n",
              "\n",
              "    .dataframe tbody tr th {\n",
              "        vertical-align: top;\n",
              "    }\n",
              "\n",
              "    .dataframe thead th {\n",
              "        text-align: right;\n",
              "    }\n",
              "</style>\n",
              "<table border=\"1\" class=\"dataframe\">\n",
              "  <thead>\n",
              "    <tr style=\"text-align: right;\">\n",
              "      <th></th>\n",
              "      <th>Type</th>\n",
              "      <th>Type Code</th>\n",
              "    </tr>\n",
              "  </thead>\n",
              "  <tbody>\n",
              "    <tr>\n",
              "      <th>0</th>\n",
              "      <td>int8</td>\n",
              "      <td>i1</td>\n",
              "    </tr>\n",
              "    <tr>\n",
              "      <th>1</th>\n",
              "      <td>uint8</td>\n",
              "      <td>u1</td>\n",
              "    </tr>\n",
              "    <tr>\n",
              "      <th>2</th>\n",
              "      <td>int16</td>\n",
              "      <td>i2</td>\n",
              "    </tr>\n",
              "    <tr>\n",
              "      <th>3</th>\n",
              "      <td>uint16</td>\n",
              "      <td>u2</td>\n",
              "    </tr>\n",
              "    <tr>\n",
              "      <th>4</th>\n",
              "      <td>int32</td>\n",
              "      <td>i4</td>\n",
              "    </tr>\n",
              "    <tr>\n",
              "      <th>5</th>\n",
              "      <td>uint32</td>\n",
              "      <td>u4</td>\n",
              "    </tr>\n",
              "    <tr>\n",
              "      <th>6</th>\n",
              "      <td>int64</td>\n",
              "      <td>i8</td>\n",
              "    </tr>\n",
              "    <tr>\n",
              "      <th>7</th>\n",
              "      <td>uint64</td>\n",
              "      <td>u8</td>\n",
              "    </tr>\n",
              "    <tr>\n",
              "      <th>8</th>\n",
              "      <td>float16</td>\n",
              "      <td>f2</td>\n",
              "    </tr>\n",
              "    <tr>\n",
              "      <th>9</th>\n",
              "      <td>float32</td>\n",
              "      <td>f4 or f</td>\n",
              "    </tr>\n",
              "    <tr>\n",
              "      <th>10</th>\n",
              "      <td>float64</td>\n",
              "      <td>f8 or d</td>\n",
              "    </tr>\n",
              "    <tr>\n",
              "      <th>11</th>\n",
              "      <td>float128</td>\n",
              "      <td>f16 or g</td>\n",
              "    </tr>\n",
              "    <tr>\n",
              "      <th>12</th>\n",
              "      <td>complex64</td>\n",
              "      <td>c8</td>\n",
              "    </tr>\n",
              "    <tr>\n",
              "      <th>13</th>\n",
              "      <td>complex128</td>\n",
              "      <td>c16</td>\n",
              "    </tr>\n",
              "    <tr>\n",
              "      <th>14</th>\n",
              "      <td>bool</td>\n",
              "      <td></td>\n",
              "    </tr>\n",
              "    <tr>\n",
              "      <th>15</th>\n",
              "      <td>object</td>\n",
              "      <td>O</td>\n",
              "    </tr>\n",
              "    <tr>\n",
              "      <th>16</th>\n",
              "      <td>string_</td>\n",
              "      <td>S</td>\n",
              "    </tr>\n",
              "    <tr>\n",
              "      <th>17</th>\n",
              "      <td>unicode_</td>\n",
              "      <td>U</td>\n",
              "    </tr>\n",
              "  </tbody>\n",
              "</table>\n",
              "</div>"
            ],
            "text/plain": [
              "          Type Type Code\n",
              "0         int8        i1\n",
              "1        uint8        u1\n",
              "2        int16        i2\n",
              "3       uint16        u2\n",
              "4        int32        i4\n",
              "5       uint32        u4\n",
              "6        int64        i8\n",
              "7       uint64        u8\n",
              "8      float16        f2\n",
              "9      float32   f4 or f\n",
              "10     float64   f8 or d\n",
              "11    float128  f16 or g\n",
              "12   complex64        c8\n",
              "13  complex128       c16\n",
              "14        bool          \n",
              "15      object         O\n",
              "16     string_         S\n",
              "17    unicode_         U"
            ]
          },
          "execution_count": 3,
          "metadata": {},
          "output_type": "execute_result"
        }
      ],
      "source": [
        "import pandas as pd\n",
        "dtypes = pd.DataFrame(\n",
        "    {\n",
        "        'Type': ['int8', 'uint8', 'int16', 'uint16', 'int32', 'uint32', 'int64', 'uint64', 'float16', 'float32', 'float64', 'float128', 'complex64', 'complex128', 'bool', 'object', 'string_', 'unicode_'],\n",
        "        'Type Code': ['i1', 'u1', 'i2', 'u2', 'i4', 'u4', 'i8', 'u8', 'f2', 'f4 or f', 'f8 or d', 'f16 or g', 'c8', 'c16', '', 'O', 'S', 'U']\n",
        "    }\n",
        ")\n",
        "\n",
        "dtypes"
      ]
    },
    {
      "cell_type": "code",
      "execution_count": null,
      "metadata": {
        "id": "kpy9v_qUd7K1",
        "outputId": "fcbe9d8a-61a2-4c72-d6c5-827ba3635791"
      },
      "outputs": [
        {
          "name": "stdout",
          "output_type": "stream",
          "text": [
            "[1. 2. 3.]\n",
            "float32\n",
            "[1.+2.j 3.-4.j]\n",
            "complex64\n",
            "[False  True  True]\n",
            "bool\n"
          ]
        }
      ],
      "source": [
        "# create an array with a specified data type\n",
        "arr = np.array([1,2,3], dtype='f4')\n",
        "print(arr)\n",
        "print(arr.dtype)\n",
        "\n",
        "arr = np.array([1+2j, 3-4j], dtype=np.complex64)\n",
        "print(arr)\n",
        "print(arr.dtype)\n",
        "\n",
        "arr = np.array([0, 1, 1], dtype=np.bool)\n",
        "print(arr)\n",
        "print(arr.dtype)"
      ]
    },
    {
      "cell_type": "markdown",
      "metadata": {
        "id": "zSFnO0yKd7K1"
      },
      "source": [
        "### string data type"
      ]
    },
    {
      "cell_type": "code",
      "execution_count": null,
      "metadata": {
        "id": "-AYDfZJfd7K1",
        "outputId": "822215e2-0424-4fa1-ba30-c8ee2ac3a192"
      },
      "outputs": [
        {
          "name": "stdout",
          "output_type": "stream",
          "text": [
            "[b'abc' b'def']\n",
            "|S3\n"
          ]
        }
      ],
      "source": [
        "# set the max length of the string using S + some number, such as 'S3'\n",
        "# any string longer than the max length will be truncated\n",
        "s = np.array(['abc', 'defg'], dtype='S3')\n",
        "print(s)\n",
        "print(s.dtype)"
      ]
    },
    {
      "cell_type": "code",
      "execution_count": null,
      "metadata": {
        "id": "uM0iiTmDd7K2",
        "outputId": "58011584-a2b4-4ee6-b893-a84335a29af8"
      },
      "outputs": [
        {
          "name": "stdout",
          "output_type": "stream",
          "text": [
            "|S3\n",
            "<U3\n"
          ]
        }
      ],
      "source": [
        "# numpy string and unicode data types are fixed-length\n",
        "# string_ and unicode_ will treat the longest string in the array as the default length when creating an array\n",
        "arr = np.array(['a', 'ab', 'abc'], dtype=np.string_)\n",
        "print(arr.dtype)\n",
        "\n",
        "arr = np.array(['a', 'ab', 'abc'], dtype=np.unicode_)\n",
        "print(arr.dtype)"
      ]
    },
    {
      "cell_type": "code",
      "execution_count": null,
      "metadata": {
        "id": "hVffyuEAd7K2"
      },
      "outputs": [],
      "source": [
        "# what does \"|\" and \"<\" mean above?\n",
        "# they are the byte order indicators, which is beyond the scope of this tutorial\n",
        "# you can check it out here: https://docs.scipy.org/doc/numpy/reference/generated/numpy.dtype.byteorder.html\n",
        "# and here: https://en.wikipedia.org/wiki/Endianness"
      ]
    },
    {
      "cell_type": "markdown",
      "metadata": {
        "id": "urvW0U-bd7K2"
      },
      "source": [
        "# 1. Create Arrays"
      ]
    },
    {
      "cell_type": "markdown",
      "metadata": {
        "id": "IsxjcZ4wd7K2"
      },
      "source": [
        "### create an array from a Python array"
      ]
    },
    {
      "cell_type": "code",
      "execution_count": null,
      "metadata": {
        "id": "Yr8efm5Zd7K2",
        "outputId": "c5d097a8-c258-40a0-e371-6b6a507f801a"
      },
      "outputs": [
        {
          "name": "stdout",
          "output_type": "stream",
          "text": [
            "[0 1 2 3 4 5 6 7 8 9]\n"
          ]
        }
      ],
      "source": [
        "arr = np.array(range(10))\n",
        "print(arr)"
      ]
    },
    {
      "cell_type": "code",
      "execution_count": null,
      "metadata": {
        "id": "LNud-H7Cd7K2",
        "outputId": "9cd36b37-1897-4bb8-8971-841c768ddedd"
      },
      "outputs": [
        {
          "name": "stdout",
          "output_type": "stream",
          "text": [
            "[1 2 3 4 5]\n"
          ]
        }
      ],
      "source": [
        "arr = np.array([1,2,3,4,5])\n",
        "print(arr)"
      ]
    },
    {
      "cell_type": "markdown",
      "metadata": {
        "id": "hwjFGRo2d7K3"
      },
      "source": [
        "### create an array in a specified data type"
      ]
    },
    {
      "cell_type": "code",
      "execution_count": null,
      "metadata": {
        "id": "mEL47lwdd7K3",
        "outputId": "59b6921b-8371-4775-a1a8-ef3174ca4c8b"
      },
      "outputs": [
        {
          "name": "stdout",
          "output_type": "stream",
          "text": [
            "[[1 2 3]\n",
            " [4 5 6]]\n"
          ]
        }
      ],
      "source": [
        "arr = np.array([[1,2,3], [4,5,6]], dtype='i2')\n",
        "print(arr)"
      ]
    },
    {
      "cell_type": "markdown",
      "metadata": {
        "id": "6n4mop7Jd7K3"
      },
      "source": [
        "### create an aray of evenly spaced values within a specified interval"
      ]
    },
    {
      "cell_type": "code",
      "execution_count": null,
      "metadata": {
        "id": "pcAm_vpLd7K3",
        "outputId": "72bf27b1-b9df-49d7-c70b-57b81f2bd338"
      },
      "outputs": [
        {
          "name": "stdout",
          "output_type": "stream",
          "text": [
            "[ 0  2  4  6  8 10 12 14 16 18]\n"
          ]
        }
      ],
      "source": [
        "# np.arange(start, stop, step)\n",
        "arr = np.arange(0, 20, 2)\n",
        "print(arr)"
      ]
    },
    {
      "cell_type": "markdown",
      "metadata": {
        "id": "S2N19FjDd7K3"
      },
      "source": [
        "### create an array of evenly spaced numbers in a specified interval"
      ]
    },
    {
      "cell_type": "code",
      "execution_count": null,
      "metadata": {
        "id": "7Cnjqxq5d7K4",
        "outputId": "50c3678d-56a9-4376-a3ef-034724014f2d"
      },
      "outputs": [
        {
          "name": "stdout",
          "output_type": "stream",
          "text": [
            "[ 0.          0.52631579  1.05263158  1.57894737  2.10526316  2.63157895\n",
            "  3.15789474  3.68421053  4.21052632  4.73684211  5.26315789  5.78947368\n",
            "  6.31578947  6.84210526  7.36842105  7.89473684  8.42105263  8.94736842\n",
            "  9.47368421 10.        ]\n"
          ]
        }
      ],
      "source": [
        "# np.linspace(start, stop, num_of_elements, endpoint=True, retstep=False)\n",
        "arr = np.linspace(0, 10, 20)\n",
        "print(arr)"
      ]
    },
    {
      "cell_type": "code",
      "execution_count": null,
      "metadata": {
        "id": "-D6B8gg2d7K4",
        "outputId": "b98d6f9f-56f9-406d-e6da-436fb610627b"
      },
      "outputs": [
        {
          "name": "stdout",
          "output_type": "stream",
          "text": [
            "[0.  0.5 1.  1.5 2.  2.5 3.  3.5 4.  4.5 5.  5.5 6.  6.5 7.  7.5 8.  8.5\n",
            " 9.  9.5]\n",
            "0.5\n"
          ]
        }
      ],
      "source": [
        "# exclude endpoint and return setp size\n",
        "arr, step = np.linspace(0, 10, 20, endpoint=False, retstep=True)\n",
        "print(arr)\n",
        "print(step)"
      ]
    },
    {
      "cell_type": "markdown",
      "metadata": {
        "id": "M2NefD2vd7K4"
      },
      "source": [
        "### create an array of random values in a given shape"
      ]
    },
    {
      "cell_type": "code",
      "execution_count": null,
      "metadata": {
        "id": "9w2YcQmFd7K4",
        "outputId": "fe75c08a-77c7-4c5e-8607-82f7cb4207e0"
      },
      "outputs": [
        {
          "name": "stdout",
          "output_type": "stream",
          "text": [
            "[[0.01193679 0.24119962 0.45164836]\n",
            " [0.59037498 0.56362195 0.8405065 ]\n",
            " [0.82843098 0.25080516 0.14234631]]\n"
          ]
        }
      ],
      "source": [
        "arr = np.random.rand(3, 3)\n",
        "print(arr)"
      ]
    },
    {
      "cell_type": "markdown",
      "metadata": {
        "id": "O0_E7BVPd7K4"
      },
      "source": [
        "### create an array of zeros in a given shape"
      ]
    },
    {
      "cell_type": "code",
      "execution_count": null,
      "metadata": {
        "id": "HNBaLcPsd7K4",
        "outputId": "ef694a9e-fbda-401e-c7cb-29d3d7d13628"
      },
      "outputs": [
        {
          "name": "stdout",
          "output_type": "stream",
          "text": [
            "[[0 0 0]\n",
            " [0 0 0]]\n"
          ]
        }
      ],
      "source": [
        "zeros = np.zeros((2,3), dtype='i4')\n",
        "print(zeros)"
      ]
    },
    {
      "cell_type": "markdown",
      "metadata": {
        "id": "qjBgQkQtd7K4"
      },
      "source": [
        "### create an array of zeros with the same shape and data type as a given array"
      ]
    },
    {
      "cell_type": "code",
      "execution_count": null,
      "metadata": {
        "id": "tUCM-hETd7K4",
        "outputId": "b9a6e9cb-4763-4ada-d7c7-889d47475d80"
      },
      "outputs": [
        {
          "name": "stdout",
          "output_type": "stream",
          "text": [
            "[[0. 0. 0.]\n",
            " [0. 0. 0.]\n",
            " [0. 0. 0.]]\n"
          ]
        }
      ],
      "source": [
        "zeros = np.zeros_like(arr)\n",
        "print(zeros)"
      ]
    },
    {
      "cell_type": "markdown",
      "metadata": {
        "id": "_HNsOoLQd7K5"
      },
      "source": [
        "### create an array of ones in a given shape"
      ]
    },
    {
      "cell_type": "code",
      "execution_count": null,
      "metadata": {
        "id": "IspQCba_d7K5",
        "outputId": "b7bd5bde-cb91-4c89-f9bb-fe5260076314"
      },
      "outputs": [
        {
          "name": "stdout",
          "output_type": "stream",
          "text": [
            "[[1. 1. 1.]\n",
            " [1. 1. 1.]]\n"
          ]
        }
      ],
      "source": [
        "ones = np.ones((2,3))\n",
        "print(ones)"
      ]
    },
    {
      "cell_type": "markdown",
      "metadata": {
        "id": "LyszsrsBd7K5"
      },
      "source": [
        "### create an array of ones with the same shape and data type as a given array"
      ]
    },
    {
      "cell_type": "code",
      "execution_count": null,
      "metadata": {
        "id": "6XzICBMId7K5",
        "outputId": "fc75274a-9e8c-4cb2-874d-b9382289c0f1"
      },
      "outputs": [
        {
          "name": "stdout",
          "output_type": "stream",
          "text": [
            "[[1. 1. 1.]\n",
            " [1. 1. 1.]\n",
            " [1. 1. 1.]]\n"
          ]
        }
      ],
      "source": [
        "ones = np.ones_like(arr)\n",
        "print(ones)"
      ]
    },
    {
      "cell_type": "markdown",
      "metadata": {
        "id": "VyXaRSFrd7K5"
      },
      "source": [
        "### create an array of arbitrary values in a given shape"
      ]
    },
    {
      "cell_type": "code",
      "execution_count": null,
      "metadata": {
        "id": "pPwxUr1ld7K5",
        "outputId": "629eb492-e389-4e36-e6fe-face5cc97ac5"
      },
      "outputs": [
        {
          "name": "stdout",
          "output_type": "stream",
          "text": [
            "[[1. 1. 1.]\n",
            " [1. 1. 1.]]\n"
          ]
        }
      ],
      "source": [
        "empty = np.empty((2,3))\n",
        "print(empty)"
      ]
    },
    {
      "cell_type": "markdown",
      "metadata": {
        "id": "NXv0Dpr9d7K5"
      },
      "source": [
        "### create an array of arbitrary values with the same shape and data type as a given array"
      ]
    },
    {
      "cell_type": "code",
      "execution_count": null,
      "metadata": {
        "id": "1JKe5uDNd7K6",
        "outputId": "c642871f-26dd-4e7f-97a6-40676a11e7e9"
      },
      "outputs": [
        {
          "name": "stdout",
          "output_type": "stream",
          "text": [
            "[[1. 1. 1.]\n",
            " [1. 1. 1.]\n",
            " [1. 1. 1.]]\n"
          ]
        }
      ],
      "source": [
        "empty = np.empty_like(arr)\n",
        "print(empty)"
      ]
    },
    {
      "cell_type": "markdown",
      "metadata": {
        "id": "2SmGMllTd7K6"
      },
      "source": [
        "### create an array of constant values in a given shape  "
      ]
    },
    {
      "cell_type": "code",
      "execution_count": null,
      "metadata": {
        "id": "RZNnquGAd7K6",
        "outputId": "dda45d11-f261-4bd2-c057-9c6d051282a4"
      },
      "outputs": [
        {
          "name": "stdout",
          "output_type": "stream",
          "text": [
            "[[5 5 5]\n",
            " [5 5 5]]\n"
          ]
        }
      ],
      "source": [
        "p = np.full((2,3), 5)\n",
        "print(p)"
      ]
    },
    {
      "cell_type": "markdown",
      "metadata": {
        "id": "BIIqXpyhd7K9"
      },
      "source": [
        "### create an array of constant values with the same shape and data type as a given array"
      ]
    },
    {
      "cell_type": "code",
      "execution_count": null,
      "metadata": {
        "id": "ctx2odxGd7K9",
        "outputId": "6d313dad-05f5-4dfc-f6b0-0ee16ee4f989"
      },
      "outputs": [
        {
          "name": "stdout",
          "output_type": "stream",
          "text": [
            "[[5. 5. 5.]\n",
            " [5. 5. 5.]\n",
            " [5. 5. 5.]]\n"
          ]
        }
      ],
      "source": [
        "p = np.full_like(arr, 5)\n",
        "print(p)"
      ]
    },
    {
      "cell_type": "markdown",
      "metadata": {
        "id": "8ygvTetSd7K-"
      },
      "source": [
        "### create an array by repetition"
      ]
    },
    {
      "cell_type": "code",
      "execution_count": null,
      "metadata": {
        "id": "D6UYFsmZd7K-",
        "outputId": "fba8e5eb-9123-4554-c067-0af28cbb254e"
      },
      "outputs": [
        {
          "name": "stdout",
          "output_type": "stream",
          "text": [
            "[0 0 0 1 1 1 2 2 2]\n"
          ]
        }
      ],
      "source": [
        "# repeat each element of an array by a specified number of times\n",
        "# np.repeat(iterable, reps, axis=None)\n",
        "arr = [0, 1, 2]\n",
        "print(np.repeat(arr, 3))    # or np.repeat(range(3), 3)"
      ]
    },
    {
      "cell_type": "code",
      "execution_count": null,
      "metadata": {
        "id": "uDcHEc-dd7K-",
        "outputId": "dc21263d-024a-4314-dd71-a15cccd0e5d1"
      },
      "outputs": [
        {
          "name": "stdout",
          "output_type": "stream",
          "text": [
            "[[1 2]\n",
            " [3 4]\n",
            " [3 4]]\n"
          ]
        }
      ],
      "source": [
        "# repeat along a specified axis with specified number of repetitions\n",
        "arr = [[1,2], [3,4]]\n",
        "print(np.repeat(arr, [1,2], axis=0))"
      ]
    },
    {
      "cell_type": "code",
      "execution_count": null,
      "metadata": {
        "id": "kDJb2Fdld7K-",
        "outputId": "4e78c271-946a-49c8-8f70-75a1097011ec"
      },
      "outputs": [
        {
          "name": "stdout",
          "output_type": "stream",
          "text": [
            "[0 1 2 0 1 2 0 1 2]\n"
          ]
        }
      ],
      "source": [
        "# repeat an array by a specified number of times\n",
        "arr = [0, 1, 2]\n",
        "print(np.tile(arr, 3))"
      ]
    },
    {
      "cell_type": "code",
      "execution_count": null,
      "metadata": {
        "id": "-vgSDwyDd7K-",
        "outputId": "43dbc821-79f9-4734-9754-327504f2b09f"
      },
      "outputs": [
        {
          "name": "stdout",
          "output_type": "stream",
          "text": [
            "[[0 1 2 0 1 2]\n",
            " [0 1 2 0 1 2]]\n"
          ]
        }
      ],
      "source": [
        "# repeat along specified axes\n",
        "print(np.tile(arr, (2,2)))"
      ]
    },
    {
      "cell_type": "markdown",
      "metadata": {
        "id": "qmIGNIhgd7K-"
      },
      "source": [
        "### create an identity matrix with a given diagonal size"
      ]
    },
    {
      "cell_type": "code",
      "execution_count": null,
      "metadata": {
        "id": "m4aNfZGld7K-",
        "outputId": "ee3e311c-3c59-41fc-d75b-380288bdbe59"
      },
      "outputs": [
        {
          "name": "stdout",
          "output_type": "stream",
          "text": [
            "[[1. 0. 0.]\n",
            " [0. 1. 0.]\n",
            " [0. 0. 1.]]\n"
          ]
        }
      ],
      "source": [
        "identity_matrix = np.eye(3)\n",
        "print(identity_matrix)"
      ]
    },
    {
      "cell_type": "code",
      "execution_count": null,
      "metadata": {
        "id": "OGzyxrE4d7K_",
        "outputId": "051fb3a0-7cdb-4607-fa6f-513a9006023e"
      },
      "outputs": [
        {
          "name": "stdout",
          "output_type": "stream",
          "text": [
            "[[1. 0. 0.]\n",
            " [0. 1. 0.]\n",
            " [0. 0. 1.]]\n"
          ]
        }
      ],
      "source": [
        "identity_matrix = np.identity(3)\n",
        "print(identity_matrix)"
      ]
    },
    {
      "cell_type": "markdown",
      "metadata": {
        "id": "MPPq9wILd7K_"
      },
      "source": [
        "### create an identity matrix with a diagonal offset"
      ]
    },
    {
      "cell_type": "code",
      "execution_count": null,
      "metadata": {
        "id": "hSD_3CLCd7K_",
        "outputId": "82758095-05a9-4527-bd08-79594515ccd6"
      },
      "outputs": [
        {
          "name": "stdout",
          "output_type": "stream",
          "text": [
            "[[0. 1. 0. 0. 0.]\n",
            " [0. 0. 1. 0. 0.]\n",
            " [0. 0. 0. 1. 0.]\n",
            " [0. 0. 0. 0. 1.]\n",
            " [0. 0. 0. 0. 0.]]\n"
          ]
        }
      ],
      "source": [
        "identity_matrix = np.eye(5, k=1)    # positive number shifts the diagonal upward\n",
        "print(identity_matrix)"
      ]
    },
    {
      "cell_type": "code",
      "execution_count": null,
      "metadata": {
        "id": "khSqFIr-d7K_",
        "outputId": "8ea52f30-2cd7-484e-9b49-95091bf3a8b6"
      },
      "outputs": [
        {
          "name": "stdout",
          "output_type": "stream",
          "text": [
            "[[0. 0. 0. 0. 0.]\n",
            " [0. 0. 0. 0. 0.]\n",
            " [1. 0. 0. 0. 0.]\n",
            " [0. 1. 0. 0. 0.]\n",
            " [0. 0. 1. 0. 0.]]\n"
          ]
        }
      ],
      "source": [
        "identity_matrix = np.eye(5, k=-2)   # negative number shifts the diagonal downward\n",
        "print(identity_matrix)"
      ]
    },
    {
      "cell_type": "markdown",
      "metadata": {
        "id": "wG2MdEDyd7K_"
      },
      "source": [
        "### extract the diagonal array / create a diagonal array"
      ]
    },
    {
      "cell_type": "code",
      "execution_count": null,
      "metadata": {
        "id": "Pj8KPBf_d7LA",
        "outputId": "4986cb99-c4b4-4f9f-e714-072bb0de4974"
      },
      "outputs": [
        {
          "name": "stdout",
          "output_type": "stream",
          "text": [
            "[[0.07710888 0.68905534 0.81142113 0.60805738 0.14322708]\n",
            " [0.70950747 0.11738625 0.5630424  0.27911771 0.91741603]\n",
            " [0.62715481 0.8857803  0.22214541 0.56813747 0.97598708]\n",
            " [0.65309756 0.78466617 0.40848438 0.01693925 0.18625553]\n",
            " [0.97973236 0.15756793 0.28687775 0.1440273  0.08333093]]\n"
          ]
        }
      ],
      "source": [
        "arr = np.random.rand(5,5)\n",
        "print(arr)"
      ]
    },
    {
      "cell_type": "code",
      "execution_count": null,
      "metadata": {
        "id": "u2T6QSLKd7LA",
        "outputId": "c8d0c9fc-5141-4ba8-c98f-12ba4c813d1f"
      },
      "outputs": [
        {
          "name": "stdout",
          "output_type": "stream",
          "text": [
            "[0.07710888 0.11738625 0.22214541 0.01693925 0.08333093]\n"
          ]
        }
      ],
      "source": [
        "# extract the diagonal\n",
        "print(np.diag(arr))"
      ]
    },
    {
      "cell_type": "code",
      "execution_count": null,
      "metadata": {
        "id": "cNpusoQHd7LA",
        "outputId": "9eb78fa9-b618-4d8e-b7f6-e6d6aafdfd62"
      },
      "outputs": [
        {
          "name": "stdout",
          "output_type": "stream",
          "text": [
            "[[1 0 0 0 0]\n",
            " [0 2 0 0 0]\n",
            " [0 0 3 0 0]\n",
            " [0 0 0 4 0]\n",
            " [0 0 0 0 5]]\n"
          ]
        }
      ],
      "source": [
        "# create a matrix with a specified diagonal array\n",
        "arr = np.diag([1,2,3,4,5])\n",
        "print(arr)"
      ]
    },
    {
      "cell_type": "markdown",
      "metadata": {
        "id": "SJ3QIIBWd7LA"
      },
      "source": [
        "# 2. Inspect Arrays"
      ]
    },
    {
      "cell_type": "code",
      "execution_count": null,
      "metadata": {
        "id": "QRYT5Ka7d7LA"
      },
      "outputs": [],
      "source": [
        "arr = np.array([[1,2,3], [4,5,6]], dtype=np.int64)"
      ]
    },
    {
      "cell_type": "markdown",
      "metadata": {
        "id": "roa2pybud7LA"
      },
      "source": [
        "### inspect general information of an array"
      ]
    },
    {
      "cell_type": "code",
      "execution_count": null,
      "metadata": {
        "id": "b9TGLybrd7LB",
        "outputId": "9f76e195-1692-4ffd-b39c-46de6c598364"
      },
      "outputs": [
        {
          "name": "stdout",
          "output_type": "stream",
          "text": [
            "class:  ndarray\n",
            "shape:  (2, 3)\n",
            "strides:  (24, 8)\n",
            "itemsize:  8\n",
            "aligned:  True\n",
            "contiguous:  True\n",
            "fortran:  False\n",
            "data pointer: 0x234b6bfa8a0\n",
            "byteorder:  little\n",
            "byteswap:  False\n",
            "type: int64\n",
            "None\n"
          ]
        }
      ],
      "source": [
        "print(np.info(arr))"
      ]
    },
    {
      "cell_type": "markdown",
      "metadata": {
        "id": "n0aTfVR2d7LB"
      },
      "source": [
        "### inspect the data type of an array"
      ]
    },
    {
      "cell_type": "code",
      "execution_count": null,
      "metadata": {
        "id": "UEBtDTBXd7LB",
        "outputId": "378fe51e-e2d4-4d39-f3ff-8613ce52ae67"
      },
      "outputs": [
        {
          "name": "stdout",
          "output_type": "stream",
          "text": [
            "int64\n"
          ]
        }
      ],
      "source": [
        "print(arr.dtype)"
      ]
    },
    {
      "cell_type": "markdown",
      "metadata": {
        "id": "2dAUV4VDd7LB"
      },
      "source": [
        "### inspect the dimension of an array"
      ]
    },
    {
      "cell_type": "code",
      "execution_count": null,
      "metadata": {
        "id": "JLnvPxEed7LB",
        "outputId": "d03c14c9-3156-4b57-d43e-6d2aca9cbc0e"
      },
      "outputs": [
        {
          "name": "stdout",
          "output_type": "stream",
          "text": [
            "(2, 3)\n"
          ]
        }
      ],
      "source": [
        "print(arr.shape)"
      ]
    },
    {
      "cell_type": "markdown",
      "metadata": {
        "id": "sG28iXy4d7LB"
      },
      "source": [
        "### inspect length of an array"
      ]
    },
    {
      "cell_type": "code",
      "execution_count": null,
      "metadata": {
        "id": "Q3kyTQuVd7LB",
        "outputId": "d3acb4e0-416f-4aab-dc24-65dc2259ce93"
      },
      "outputs": [
        {
          "name": "stdout",
          "output_type": "stream",
          "text": [
            "2\n"
          ]
        }
      ],
      "source": [
        "print(len(arr))"
      ]
    },
    {
      "cell_type": "markdown",
      "metadata": {
        "id": "82lRayN7d7LC"
      },
      "source": [
        "### inspect the number of dimensions of an array"
      ]
    },
    {
      "cell_type": "code",
      "execution_count": null,
      "metadata": {
        "id": "hV0B8DkBd7LC",
        "outputId": "11838497-348c-4981-dd63-81274ff03571"
      },
      "outputs": [
        {
          "name": "stdout",
          "output_type": "stream",
          "text": [
            "2\n"
          ]
        }
      ],
      "source": [
        "print(arr.ndim)"
      ]
    },
    {
      "cell_type": "markdown",
      "metadata": {
        "id": "heEsdexcd7LC"
      },
      "source": [
        "### inspect the number of elements in an array"
      ]
    },
    {
      "cell_type": "code",
      "execution_count": null,
      "metadata": {
        "id": "Z9Vo8GHud7LC",
        "outputId": "f7620222-0cd4-49d4-dd91-708d3ace4296"
      },
      "outputs": [
        {
          "name": "stdout",
          "output_type": "stream",
          "text": [
            "6\n"
          ]
        }
      ],
      "source": [
        "print(arr.size)"
      ]
    },
    {
      "cell_type": "markdown",
      "metadata": {
        "id": "9t6tN5Crd7LC"
      },
      "source": [
        "### inspect the number of bytes of each element in an array"
      ]
    },
    {
      "cell_type": "code",
      "execution_count": null,
      "metadata": {
        "id": "U8WwlbpRd7LC",
        "outputId": "dd0ecf6e-55ff-4b86-c9db-deff7a47ec18"
      },
      "outputs": [
        {
          "name": "stdout",
          "output_type": "stream",
          "text": [
            "8\n"
          ]
        }
      ],
      "source": [
        "print(arr.itemsize)"
      ]
    },
    {
      "cell_type": "markdown",
      "metadata": {
        "id": "sITgs-6bd7LC"
      },
      "source": [
        "### inspect the memory size of an array (in byte)"
      ]
    },
    {
      "cell_type": "code",
      "execution_count": null,
      "metadata": {
        "id": "uoM46Wged7LC",
        "outputId": "e1568541-00d7-4aed-c4b8-c75549ca6be9"
      },
      "outputs": [
        {
          "name": "stdout",
          "output_type": "stream",
          "text": [
            "48\n"
          ]
        }
      ],
      "source": [
        "# arr.nbytes = arr.size * arr.itemsize\n",
        "print(arr.nbytes)"
      ]
    },
    {
      "cell_type": "markdown",
      "metadata": {
        "id": "QVFDV6God7LD"
      },
      "source": [
        "# 3. Sampling Methods"
      ]
    },
    {
      "cell_type": "markdown",
      "metadata": {
        "id": "YTLyxRSHd7LD"
      },
      "source": [
        "### set seed"
      ]
    },
    {
      "cell_type": "code",
      "execution_count": null,
      "metadata": {
        "id": "RahPn1KBd7LD"
      },
      "outputs": [],
      "source": [
        "np.random.seed(123)"
      ]
    },
    {
      "cell_type": "markdown",
      "metadata": {
        "id": "E7zXd5jTd7LD"
      },
      "source": [
        "### set random state which is independent from the global seed"
      ]
    },
    {
      "cell_type": "code",
      "execution_count": null,
      "metadata": {
        "id": "D1FScuOfd7LD",
        "outputId": "f8a19595-c5b3-4f04-a2b9-034ef69f7ec5"
      },
      "outputs": [
        {
          "data": {
            "text/plain": [
              "array([0.88594794, 0.07791236, 0.97964616, 0.24767146, 0.75288472,\n",
              "       0.52667564, 0.90755375, 0.8840703 , 0.08926896, 0.5173446 ])"
            ]
          },
          "execution_count": 44,
          "metadata": {},
          "output_type": "execute_result"
        }
      ],
      "source": [
        "rs = np.random.RandomState(321)\n",
        "rs.rand(10)"
      ]
    },
    {
      "cell_type": "markdown",
      "metadata": {
        "id": "0Jdch6SGd7LD"
      },
      "source": [
        "### generate a random sample from interval [0, 1) in a given shape"
      ]
    },
    {
      "cell_type": "code",
      "execution_count": null,
      "metadata": {
        "id": "9qJW7575d7LD",
        "outputId": "939f7254-f308-4715-b36e-3d9fdd557d3f"
      },
      "outputs": [
        {
          "name": "stdout",
          "output_type": "stream",
          "text": [
            "0.6964691855978616\n"
          ]
        }
      ],
      "source": [
        "# generate a random scalar\n",
        "print(np.random.rand())"
      ]
    },
    {
      "cell_type": "code",
      "execution_count": null,
      "metadata": {
        "id": "eWZDp9xPd7LD",
        "outputId": "7e579739-50a7-4fc0-c50e-87d96bd1de97"
      },
      "outputs": [
        {
          "name": "stdout",
          "output_type": "stream",
          "text": [
            "[0.28613933 0.22685145 0.55131477]\n"
          ]
        }
      ],
      "source": [
        "# generate a 1-D array\n",
        "print(np.random.rand(3))"
      ]
    },
    {
      "cell_type": "code",
      "execution_count": null,
      "metadata": {
        "id": "Em2eoTUMd7LE",
        "outputId": "1d8f6b18-1ec1-4dd3-8f41-dbcbcab1ac6f"
      },
      "outputs": [
        {
          "name": "stdout",
          "output_type": "stream",
          "text": [
            "[[0.71946897 0.42310646 0.9807642 ]\n",
            " [0.68482974 0.4809319  0.39211752]\n",
            " [0.34317802 0.72904971 0.43857224]]\n"
          ]
        }
      ],
      "source": [
        "# generate a 2-D array\n",
        "print(np.random.rand(3,3))"
      ]
    },
    {
      "cell_type": "markdown",
      "metadata": {
        "id": "T_U8aY_dd7LE"
      },
      "source": [
        "### generate a sample from the standard normal distribution (mean = 0, var = 1)"
      ]
    },
    {
      "cell_type": "code",
      "execution_count": null,
      "metadata": {
        "id": "zoIPeW9fd7LE",
        "outputId": "54be1469-a86c-4e72-dadb-8ee600091b71"
      },
      "outputs": [
        {
          "name": "stdout",
          "output_type": "stream",
          "text": [
            "[[-0.14337247 -0.6191909  -0.76943347]\n",
            " [ 0.57674602  0.12652592 -1.30148897]\n",
            " [ 2.20742744  0.52274247  0.46564476]]\n"
          ]
        }
      ],
      "source": [
        "print(np.random.randn(3,3))"
      ]
    },
    {
      "cell_type": "markdown",
      "metadata": {
        "id": "QqaqBGkSd7LE"
      },
      "source": [
        "### generate an array of random integers in a given interval [low, high)"
      ]
    },
    {
      "cell_type": "code",
      "execution_count": null,
      "metadata": {
        "id": "nsepBWvSd7LE",
        "outputId": "ea637ee1-1353-41fe-fcb3-dc15b0098599"
      },
      "outputs": [
        {
          "name": "stdout",
          "output_type": "stream",
          "text": [
            "[5 7 2]\n"
          ]
        }
      ],
      "source": [
        "# np.ranodm.randint(low, high, size, dtype)\n",
        "print(np.random.randint(1, 10, 3, 'i8'))"
      ]
    },
    {
      "cell_type": "markdown",
      "metadata": {
        "id": "pxCZkuy7d7LE"
      },
      "source": [
        "### generate an array of random floating-point numbers in the interval [0.0, 1.0)"
      ]
    },
    {
      "cell_type": "code",
      "execution_count": null,
      "metadata": {
        "id": "1yaVmFYXd7LE",
        "outputId": "b350e942-1d35-4f0e-f3dc-6165d586c3a0"
      },
      "outputs": [
        {
          "name": "stdout",
          "output_type": "stream",
          "text": [
            "[0.65472131 0.37380143 0.23451288 0.98799529 0.76599595 0.77700444\n",
            " 0.02798196 0.17390652 0.15408224 0.07708648]\n",
            "[0.8898657  0.7503787  0.69340324 0.51176338 0.46426806 0.56843069\n",
            " 0.30254945 0.49730879 0.68326291 0.91669867]\n",
            "[0.10892895 0.49549179 0.23283593 0.43686066 0.75154299 0.48089213\n",
            " 0.79772841 0.28270293 0.43341824 0.00975735]\n",
            "[0.34079598 0.68927201 0.86936929 0.26780382 0.45674792 0.26828131\n",
            " 0.8370528  0.27051466 0.53006201 0.17537266]\n"
          ]
        }
      ],
      "source": [
        "# the following methods are the same as np.random.rand()\n",
        "print(np.random.random_sample(10))\n",
        "print(np.random.random(10))\n",
        "print(np.random.ranf(10))\n",
        "print(np.random.sample(10))"
      ]
    },
    {
      "cell_type": "markdown",
      "metadata": {
        "id": "_oaL90kBd7LF"
      },
      "source": [
        "### generate a random sample from a given 1-D array"
      ]
    },
    {
      "cell_type": "code",
      "execution_count": null,
      "metadata": {
        "id": "8IpgRFyAd7LF",
        "outputId": "7c1da1ab-0244-440b-eaff-ba9933c3e222"
      },
      "outputs": [
        {
          "name": "stdout",
          "output_type": "stream",
          "text": [
            "[1 1 1 1 1 1 1 2 2 1]\n"
          ]
        }
      ],
      "source": [
        "# np.random.choice(iterable_or_int, size, replace=True, p=weights)\n",
        "print(np.random.choice(range(3), 10, replace=True, p=[0.1, 0.8, 0.1]))"
      ]
    },
    {
      "cell_type": "code",
      "execution_count": null,
      "metadata": {
        "id": "PVfnH5O4d7LF",
        "outputId": "c473e70a-d49b-4a08-b8d2-82477dfa48b7"
      },
      "outputs": [
        {
          "name": "stdout",
          "output_type": "stream",
          "text": [
            "[1 0 1 2 2 0 1 1 1 0]\n"
          ]
        }
      ],
      "source": [
        "print(np.random.choice(3, 10))"
      ]
    },
    {
      "cell_type": "code",
      "execution_count": null,
      "metadata": {
        "id": "Xsl8fwdAd7LF",
        "outputId": "c1053767-cb32-4dae-94d6-2c810cea4ec4"
      },
      "outputs": [
        {
          "name": "stdout",
          "output_type": "stream",
          "text": [
            "[2 2 1 3 2 3 1 2 1 3]\n"
          ]
        }
      ],
      "source": [
        "print(np.random.choice([1,2,3], 10))"
      ]
    },
    {
      "cell_type": "markdown",
      "metadata": {
        "id": "KOVAsPrMd7LF"
      },
      "source": [
        "### shuffle an array in place"
      ]
    },
    {
      "cell_type": "code",
      "execution_count": null,
      "metadata": {
        "id": "tw3PLUHAd7LF",
        "outputId": "171f1aec-6d36-4e6f-d79a-1e4498667c98"
      },
      "outputs": [
        {
          "name": "stdout",
          "output_type": "stream",
          "text": [
            "[0 1 2 3 4 5 6 7 8 9]\n"
          ]
        }
      ],
      "source": [
        "arr = np.array(range(10))\n",
        "print(arr)"
      ]
    },
    {
      "cell_type": "code",
      "execution_count": null,
      "metadata": {
        "id": "grejZwyOd7LF",
        "outputId": "591ea6a4-8e9a-4ecd-e2e2-8001c76aeb4b"
      },
      "outputs": [
        {
          "name": "stdout",
          "output_type": "stream",
          "text": [
            "[1 2 8 5 4 0 6 7 9 3]\n"
          ]
        }
      ],
      "source": [
        "np.random.shuffle(arr)\n",
        "print(arr)"
      ]
    },
    {
      "cell_type": "markdown",
      "metadata": {
        "id": "2gHVbk9_d7LF"
      },
      "source": [
        "### generate a permutation of an array"
      ]
    },
    {
      "cell_type": "code",
      "execution_count": null,
      "metadata": {
        "id": "xsWH5dqed7LG",
        "outputId": "4b59208d-b222-4cef-fc43-b03088790944"
      },
      "outputs": [
        {
          "name": "stdout",
          "output_type": "stream",
          "text": [
            "The initial array:  [0 1 2 3 4 5 6 7 8 9]\n",
            "A permutation of the array:  [3 6 2 4 5 9 1 8 0 7]\n"
          ]
        }
      ],
      "source": [
        "# similar to np.random.shuffle(), but it returns a copy rather than making changes in place\n",
        "arr = np.array(range(10))\n",
        "print('The initial array: ', arr)\n",
        "print('A permutation of the array: ', np.random.permutation(arr))"
      ]
    },
    {
      "cell_type": "markdown",
      "metadata": {
        "id": "tD5FwvPad7LG"
      },
      "source": [
        "# 4. Math Functions"
      ]
    },
    {
      "cell_type": "code",
      "execution_count": null,
      "metadata": {
        "id": "j61RbXVTd7LG"
      },
      "outputs": [],
      "source": [
        "arr = np.random.rand(5,5)"
      ]
    },
    {
      "cell_type": "markdown",
      "metadata": {
        "id": "Pw2Vv2-Qd7LG"
      },
      "source": [
        "### element-wise addition, subtraction, multiplication and division"
      ]
    },
    {
      "cell_type": "code",
      "execution_count": null,
      "metadata": {
        "id": "lcWt8dSdd7LG",
        "outputId": "f3577a9b-c9c9-4f40-bbd0-fc45914c6f94"
      },
      "outputs": [
        {
          "name": "stdout",
          "output_type": "stream",
          "text": [
            "[[10.87350227 10.02942373 10.55204372 10.2402475  10.88480501]\n",
            " [10.46023842 10.19317033 10.2936925  10.81792751 10.55948738]\n",
            " [10.67792545 10.80912668 10.86857215 10.41799246 10.05893816]\n",
            " [10.478459   10.52115943 10.58063202 10.309199   10.91988263]\n",
            " [10.6553475  10.34924138 10.54109404 10.4490534  10.28232096]]\n",
            "[[-9.12649773 -9.97057627 -9.44795628 -9.7597525  -9.11519499]\n",
            " [-9.53976158 -9.80682967 -9.7063075  -9.18207249 -9.44051262]\n",
            " [-9.32207455 -9.19087332 -9.13142785 -9.58200754 -9.94106184]\n",
            " [-9.521541   -9.47884057 -9.41936798 -9.690801   -9.08011737]\n",
            " [-9.3446525  -9.65075862 -9.45890596 -9.5509466  -9.71767904]]\n",
            "[[8.73502266 0.29423734 5.52043722 2.40247504 8.84805011]\n",
            " [4.60238424 1.9317033  2.93692504 8.17927508 5.59487376]\n",
            " [6.77925447 8.09126678 8.68572154 4.17992456 0.58938156]\n",
            " [4.78459005 5.2115943  5.8063202  3.09198998 9.19882625]\n",
            " [6.55347503 3.49241385 5.41094045 4.49053396 2.82320961]]\n",
            "[[0.08735023 0.00294237 0.05520437 0.02402475 0.0884805 ]\n",
            " [0.04602384 0.01931703 0.02936925 0.08179275 0.05594874]\n",
            " [0.06779254 0.08091267 0.08685722 0.04179925 0.00589382]\n",
            " [0.0478459  0.05211594 0.0580632  0.0309199  0.09198826]\n",
            " [0.06553475 0.03492414 0.0541094  0.04490534 0.0282321 ]]\n"
          ]
        }
      ],
      "source": [
        "print(arr + 10)\n",
        "print(arr - 10)\n",
        "print(arr * 10)\n",
        "print(arr / 10)"
      ]
    },
    {
      "cell_type": "code",
      "execution_count": null,
      "metadata": {
        "id": "tFqlHYIod7LG",
        "outputId": "dfe09145-62bd-43bf-a160-a872f3cc64ea"
      },
      "outputs": [
        {
          "name": "stdout",
          "output_type": "stream",
          "text": [
            "[ 9 11 13]\n",
            "[1 2 3]\n",
            "[1 4 9]\n"
          ]
        }
      ],
      "source": [
        "arr1 = np.array([1,2,3])\n",
        "# the above operations can be performed using numpy built-in functions\n",
        "# which can save memory as the output can be stored in the original array rather than assigning new memoryarr = np.array([1,2,3])\n",
        "np.add(arr1, [8,9,10], out=arr1)\n",
        "print(arr1)\n",
        "\n",
        "np.subtract(arr1, [8,9,10], out=arr1)\n",
        "print(arr1)\n",
        "\n",
        "np.multiply(arr1, [1,2,3], out=arr1)\n",
        "print(arr1)"
      ]
    },
    {
      "cell_type": "markdown",
      "metadata": {
        "id": "iV87EH_kd7LG"
      },
      "source": [
        "### element-wise exponentiation"
      ]
    },
    {
      "cell_type": "code",
      "execution_count": null,
      "metadata": {
        "id": "cBVOQvC6d7LG",
        "outputId": "4cd921d7-ae3d-4e0d-a6b9-8dbc40e2d096"
      },
      "outputs": [
        {
          "name": "stdout",
          "output_type": "stream",
          "text": [
            "[[2.39528511 1.02986089 1.73679893 1.27156383 2.42251198]\n",
            " [1.58445171 1.2130894  1.34137137 2.26579912 1.74977529]\n",
            " [1.96978706 2.2459457  2.38350515 1.51890922 1.06070964]\n",
            " [1.61358596 1.68397897 1.7871676  1.36233345 2.50899588]\n",
            " [1.92581163 1.41799143 1.71788528 1.56682832 1.32620431]]\n"
          ]
        }
      ],
      "source": [
        "print(np.exp(arr))"
      ]
    },
    {
      "cell_type": "markdown",
      "metadata": {
        "id": "GwwOUsHLd7LH"
      },
      "source": [
        "### element-wise logorithm"
      ]
    },
    {
      "cell_type": "code",
      "execution_count": null,
      "metadata": {
        "id": "V6ZxMMQvd7LH",
        "outputId": "66ca96ba-be23-4efa-da0e-831fe5e8b040"
      },
      "outputs": [
        {
          "name": "stdout",
          "output_type": "stream",
          "text": [
            "[[-0.13524456 -3.52595367 -0.59412803 -1.42608562 -0.12238798]\n",
            " [-0.77601061 -1.64418294 -1.22522197 -0.20098157 -0.58073432]\n",
            " [-0.38871796 -0.21179979 -0.14090462 -0.87229189 -2.83126659]\n",
            " [-0.73718475 -0.65169928 -0.54363808 -1.1737702  -0.0835092 ]\n",
            " [-0.42258965 -1.05199195 -0.61416218 -0.80061348 -1.2647107 ]]\n"
          ]
        }
      ],
      "source": [
        "# natural log\n",
        "print(np.log(arr))"
      ]
    },
    {
      "cell_type": "code",
      "execution_count": null,
      "metadata": {
        "id": "y1e9kLd8d7LH",
        "outputId": "82314171-94db-469a-deaf-2f807c2a21cb"
      },
      "outputs": [
        {
          "name": "stdout",
          "output_type": "stream",
          "text": [
            "[[-0.19511665 -5.08687587 -0.85714556 -2.05740665 -0.17656854]\n",
            " [-1.11954666 -2.37205457 -1.76762165 -0.28995511 -0.83782252]\n",
            " [-0.56080147 -0.3055625  -0.20328239 -1.25845119 -4.08465428]\n",
            " [-1.06353278 -0.94020332 -0.78430396 -1.69339245 -0.12047831]\n",
            " [-0.60966799 -1.51770357 -0.88604873 -1.15504109 -1.82459185]]\n"
          ]
        }
      ],
      "source": [
        "# base 2\n",
        "print(np.log2(arr))"
      ]
    },
    {
      "cell_type": "code",
      "execution_count": null,
      "metadata": {
        "id": "fAJGvxkyd7LH",
        "outputId": "c79d42e1-ba39-45c7-dd3a-eeca6c87ab5d"
      },
      "outputs": [
        {
          "name": "stdout",
          "output_type": "stream",
          "text": [
            "[[-0.05873596 -1.53130222 -0.25802652 -0.61934112 -0.05315243]\n",
            " [-0.33701713 -0.71405958 -0.53210714 -0.08728519 -0.25220971]\n",
            " [-0.16881806 -0.09198348 -0.0611941  -0.37883156 -1.22960346]\n",
            " [-0.32015527 -0.2830294  -0.23609902 -0.50976192 -0.03626758]\n",
            " [-0.18352835 -0.4568743  -0.26672725 -0.34770202 -0.54925688]]\n"
          ]
        }
      ],
      "source": [
        "# base 10\n",
        "print(np.log10(arr))"
      ]
    },
    {
      "cell_type": "markdown",
      "metadata": {
        "id": "Tkjyv5pOd7LH"
      },
      "source": [
        "### element-wise square root"
      ]
    },
    {
      "cell_type": "code",
      "execution_count": null,
      "metadata": {
        "id": "rIiSH2wpd7LH",
        "outputId": "20457e3b-9672-45d6-a8d4-90a117f84eae"
      },
      "outputs": [
        {
          "name": "stdout",
          "output_type": "stream",
          "text": [
            "[[0.93461343 0.17153348 0.74299645 0.49015049 0.94064075]\n",
            " [0.67840874 0.43951147 0.54193404 0.90439345 0.74798889]\n",
            " [0.82336228 0.89951469 0.93197219 0.64652336 0.24277182]\n",
            " [0.69170731 0.72191373 0.76199214 0.55605665 0.95910512]\n",
            " [0.80953536 0.59096648 0.73559095 0.67011446 0.53133884]]\n"
          ]
        }
      ],
      "source": [
        "print(np.sqrt(arr))"
      ]
    },
    {
      "cell_type": "markdown",
      "metadata": {
        "id": "1s5Ch0UZd7LH"
      },
      "source": [
        "### element-wise sine and cosine"
      ]
    },
    {
      "cell_type": "code",
      "execution_count": null,
      "metadata": {
        "id": "4Dgk5YDUd7LI",
        "outputId": "f092de94-8ea4-4881-8975-d1536995fd4e"
      },
      "outputs": [
        {
          "name": "stdout",
          "output_type": "stream",
          "text": [
            "[[0.7665826  0.02941949 0.52442846 0.23794303 0.77379149]\n",
            " [0.44416174 0.19197122 0.28948859 0.72973036 0.5307518 ]\n",
            " [0.62717856 0.72368474 0.76340745 0.40592657 0.05890404]\n",
            " [0.46041177 0.49788598 0.54855249 0.30429572 0.79553051]\n",
            " [0.60943479 0.34218509 0.51507406 0.43411297 0.27858547]]\n"
          ]
        }
      ],
      "source": [
        "print(np.sin(arr))"
      ]
    },
    {
      "cell_type": "code",
      "execution_count": null,
      "metadata": {
        "id": "GN6Cwb38d7LI",
        "outputId": "93fe86ac-433b-4651-ac5f-5db3b8d1ae54"
      },
      "outputs": [
        {
          "name": "stdout",
          "output_type": "stream",
          "text": [
            "[[0.64214571 0.99956715 0.85145452 0.97127911 0.63344039]\n",
            " [0.89594662 0.98140056 0.95718147 0.68373503 0.8475273 ]\n",
            " [0.77887551 0.69013071 0.64591723 0.9139057  0.99826365]\n",
            " [0.88770547 0.8672425  0.83611612 0.95257762 0.60591354]\n",
            " [0.7928362  0.93963257 0.85714568 0.90085844 0.96041144]]\n"
          ]
        }
      ],
      "source": [
        "print(np.cos(arr))"
      ]
    },
    {
      "cell_type": "markdown",
      "metadata": {
        "id": "TcEV1j68d7LI"
      },
      "source": [
        "### sum along a specified axis"
      ]
    },
    {
      "cell_type": "code",
      "execution_count": null,
      "metadata": {
        "id": "ahb2om8pd7LI",
        "outputId": "08879c94-c7f3-4cad-cbb1-9b0a6518b00f"
      },
      "outputs": [
        {
          "name": "stdout",
          "output_type": "stream",
          "text": [
            "[3.14547265 1.90212156 2.83603444 2.23441986 2.70543413]\n"
          ]
        }
      ],
      "source": [
        "# sum along the row\n",
        "print(np.sum(arr, axis=0))"
      ]
    },
    {
      "cell_type": "code",
      "execution_count": null,
      "metadata": {
        "id": "V92CoqLTd7LI",
        "outputId": "7fabd9c4-09e0-4fe7-e28b-a1df754380db"
      },
      "outputs": [
        {
          "name": "stdout",
          "output_type": "stream",
          "text": [
            "[2.58002224 2.32451614 2.83255489 2.80933208 2.27705729]\n"
          ]
        }
      ],
      "source": [
        "# sum along the column\n",
        "print(np.sum(arr, axis=1))"
      ]
    },
    {
      "cell_type": "markdown",
      "metadata": {
        "id": "DKfQxqwzd7LI"
      },
      "source": [
        "### compute the min and max along a specified axis"
      ]
    },
    {
      "cell_type": "code",
      "execution_count": null,
      "metadata": {
        "id": "9bkbwzpYd7LJ",
        "outputId": "1d334b6e-9d93-4072-c1cb-3527af76bbad"
      },
      "outputs": [
        {
          "name": "stdout",
          "output_type": "stream",
          "text": [
            "[0.46023842 0.02942373 0.2936925  0.2402475  0.05893816]\n"
          ]
        }
      ],
      "source": [
        "# calculate min along the row\n",
        "print(np.min(arr, axis=0))"
      ]
    },
    {
      "cell_type": "code",
      "execution_count": null,
      "metadata": {
        "id": "7TV_Zn9jd7LJ",
        "outputId": "f54c05d1-90ab-427d-84a7-0506612d142c"
      },
      "outputs": [
        {
          "name": "stdout",
          "output_type": "stream",
          "text": [
            "[0.88480501 0.81792751 0.86857215 0.91988263 0.6553475 ]\n"
          ]
        }
      ],
      "source": [
        "# calculate max along the column\n",
        "print(np.max(arr, axis=1))"
      ]
    },
    {
      "cell_type": "code",
      "execution_count": null,
      "metadata": {
        "id": "eV9OPv_rd7LJ",
        "outputId": "51ffb135-48f5-4d15-f5c6-ae6ec1359cc9"
      },
      "outputs": [
        {
          "name": "stdout",
          "output_type": "stream",
          "text": [
            "0.919882625254582\n",
            "0.029423733551983133\n"
          ]
        }
      ],
      "source": [
        "# if axis not specified, calculate the max/min value of all elements\n",
        "print(np.max(arr))\n",
        "print(np.min(arr))"
      ]
    },
    {
      "cell_type": "markdown",
      "metadata": {
        "id": "kMAjAD5Td7LJ"
      },
      "source": [
        "### compute the indices of the min and max along a specified axis"
      ]
    },
    {
      "cell_type": "code",
      "execution_count": null,
      "metadata": {
        "id": "bAzsHqMyd7LJ",
        "outputId": "6e62e356-c5bc-4659-f35d-ae1aa7b633a5"
      },
      "outputs": [
        {
          "name": "stdout",
          "output_type": "stream",
          "text": [
            "[1 0 1 0 2]\n",
            "[0 2 2 1 3]\n"
          ]
        }
      ],
      "source": [
        "# along the row\n",
        "print(np.argmin(arr, axis=0))\n",
        "print(np.argmax(arr, axis=0))"
      ]
    },
    {
      "cell_type": "code",
      "execution_count": null,
      "metadata": {
        "id": "eJNusW1Dd7LJ",
        "outputId": "db1c78c5-e5b7-4d27-d079-1999a81a3596"
      },
      "outputs": [
        {
          "name": "stdout",
          "output_type": "stream",
          "text": [
            "[1 1 4 3 4]\n",
            "[4 3 2 4 0]\n"
          ]
        }
      ],
      "source": [
        "# along the column\n",
        "print(np.argmin(arr, axis=1))\n",
        "print(np.argmax(arr, axis=1))"
      ]
    },
    {
      "cell_type": "code",
      "execution_count": null,
      "metadata": {
        "id": "6UJguNeZd7LK",
        "outputId": "e53461bf-79cf-43b8-ffea-ef78f2af52e2"
      },
      "outputs": [
        {
          "name": "stdout",
          "output_type": "stream",
          "text": [
            "1\n",
            "19\n"
          ]
        }
      ],
      "source": [
        "# if axis not specified, return the index of the flattened array\n",
        "print(np.argmin(arr))\n",
        "print(np.argmax(arr))"
      ]
    },
    {
      "cell_type": "markdown",
      "metadata": {
        "id": "RvnFBkzEd7LK"
      },
      "source": [
        "### compute element-wise min and max of two arrays"
      ]
    },
    {
      "cell_type": "code",
      "execution_count": null,
      "metadata": {
        "id": "b8FmR6LYd7LK",
        "outputId": "08fba270-8cb3-4aa9-a3ea-ebd0aad2b245"
      },
      "outputs": [
        {
          "name": "stdout",
          "output_type": "stream",
          "text": [
            "[1 4 5 8 9]\n",
            "[0 3 3 7 7]\n"
          ]
        }
      ],
      "source": [
        "arr1 = np.array([1, 3, 5, 7, 9])\n",
        "arr2 = np.array([0, 4, 3, 8, 7])\n",
        "print(np.maximum(arr1, arr2))\n",
        "print(np.minimum(arr1, arr2))"
      ]
    },
    {
      "cell_type": "markdown",
      "metadata": {
        "id": "fsKdsSDId7LK"
      },
      "source": [
        "### split fractional and integral parts of a floating-point array"
      ]
    },
    {
      "cell_type": "code",
      "execution_count": null,
      "metadata": {
        "id": "-1kSoIMad7LK",
        "outputId": "0715465c-6c96-49f4-fc29-f567d3a4889a"
      },
      "outputs": [
        {
          "name": "stdout",
          "output_type": "stream",
          "text": [
            "fractional:  [0.95876525 0.63480983 0.15191279 0.17618677 0.52041829 0.32778859\n",
            " 0.7311902  0.67888445 0.87478322 0.4941493 ]\n",
            "integral:  [2. 5. 7. 5. 3. 6. 8. 1. 9. 3.]\n"
          ]
        }
      ],
      "source": [
        "arr1 = np.random.rand(10) * 10\n",
        "re, intg = np.modf(arr1)\n",
        "print('fractional: ', re)\n",
        "print('integral: ', intg)"
      ]
    },
    {
      "cell_type": "markdown",
      "metadata": {
        "id": "wAGmgwdad7LK"
      },
      "source": [
        "### compute the mean"
      ]
    },
    {
      "cell_type": "code",
      "execution_count": null,
      "metadata": {
        "id": "vJKYaCO3d7LK",
        "outputId": "a7ff103d-8a4b-42dd-a0fb-a78c02b5cd69"
      },
      "outputs": [
        {
          "name": "stdout",
          "output_type": "stream",
          "text": [
            "0.5129393054604379\n"
          ]
        }
      ],
      "source": [
        "# compute the overall mean\n",
        "print(np.mean(arr))"
      ]
    },
    {
      "cell_type": "code",
      "execution_count": null,
      "metadata": {
        "id": "LCRciuepd7LL",
        "outputId": "ab8a3cc4-6a29-4551-d888-67044a794909"
      },
      "outputs": [
        {
          "name": "stdout",
          "output_type": "stream",
          "text": [
            "[0.62909453 0.38042431 0.56720689 0.44688397 0.54108683]\n"
          ]
        }
      ],
      "source": [
        "# compute the mean along the row\n",
        "print(np.mean(arr, axis=0))"
      ]
    },
    {
      "cell_type": "code",
      "execution_count": null,
      "metadata": {
        "id": "GaecHP6Ad7LL",
        "outputId": "cce36365-a3d3-486b-9666-da3e79a635b7"
      },
      "outputs": [
        {
          "name": "stdout",
          "output_type": "stream",
          "text": [
            "[0.51600445 0.46490323 0.56651098 0.56186642 0.45541146]\n"
          ]
        }
      ],
      "source": [
        "# compute the mean along the column\n",
        "print(np.mean(arr, axis=1))"
      ]
    },
    {
      "cell_type": "markdown",
      "metadata": {
        "id": "LCiAc-x5d7LL"
      },
      "source": [
        "### compute the median"
      ]
    },
    {
      "cell_type": "code",
      "execution_count": null,
      "metadata": {
        "id": "yz4XMIiPd7LL",
        "outputId": "8807ae69-0560-4efe-9eeb-9e9e10ce93c6"
      },
      "outputs": [
        {
          "name": "stdout",
          "output_type": "stream",
          "text": [
            "0.52115942968839\n"
          ]
        }
      ],
      "source": [
        "# compute the overall median\n",
        "print(np.median(arr))"
      ]
    },
    {
      "cell_type": "code",
      "execution_count": null,
      "metadata": {
        "id": "iK5a7rj3d7LL",
        "outputId": "2ac247a6-5d53-4c21-f72e-2f748865e44f"
      },
      "outputs": [
        {
          "name": "stdout",
          "output_type": "stream",
          "text": [
            "[0.6553475  0.34924138 0.55204372 0.41799246 0.55948738]\n"
          ]
        }
      ],
      "source": [
        "# compute the median along the row\n",
        "print(np.median(arr, axis=0))"
      ]
    },
    {
      "cell_type": "code",
      "execution_count": null,
      "metadata": {
        "id": "7f3xlHUgd7LL",
        "outputId": "6f21535d-1d8f-4bcd-b18c-3e6afcc017ed"
      },
      "outputs": [
        {
          "name": "stdout",
          "output_type": "stream",
          "text": [
            "[0.55204372 0.46023842 0.67792545 0.52115943 0.4490534 ]\n"
          ]
        }
      ],
      "source": [
        "# compute the median along the column\n",
        "print(np.median(arr, axis=1))"
      ]
    },
    {
      "cell_type": "markdown",
      "metadata": {
        "id": "EWwJBIUVd7LL"
      },
      "source": [
        "### compute the percentile"
      ]
    },
    {
      "cell_type": "code",
      "execution_count": null,
      "metadata": {
        "id": "Oko7UPGtd7LL",
        "outputId": "f5ef48cb-fa47-45fe-a41c-17832286e4dd"
      },
      "outputs": [
        {
          "name": "stdout",
          "output_type": "stream",
          "text": [
            "[0.05596961 0.58954837 0.92058256]\n"
          ]
        }
      ],
      "source": [
        "arr1 = np.random.rand(100)\n",
        "# compute 5, 65, and 95 percentiles of the array\n",
        "print(np.percentile(arr1, [5, 65, 95]))"
      ]
    },
    {
      "cell_type": "markdown",
      "metadata": {
        "id": "xfyWI5FFd7LM"
      },
      "source": [
        "### compute the standard deviation & variance"
      ]
    },
    {
      "cell_type": "code",
      "execution_count": null,
      "metadata": {
        "id": "8k42fj_Gd7LM",
        "outputId": "5bcdb61e-baab-4042-c151-e8609213227b"
      },
      "outputs": [
        {
          "name": "stdout",
          "output_type": "stream",
          "text": [
            "0.25305273176784365\n"
          ]
        }
      ],
      "source": [
        "# compute the overall standard deviation\n",
        "print(np.std(arr))"
      ]
    },
    {
      "cell_type": "code",
      "execution_count": null,
      "metadata": {
        "id": "ZBpCdvpTd7LM",
        "outputId": "a7aacc89-0138-4eb0-8b12-ace5406ab4f8"
      },
      "outputs": [
        {
          "name": "stdout",
          "output_type": "stream",
          "text": [
            "[0.15100481 0.26938074 0.18260514 0.20008424 0.33508033]\n"
          ]
        }
      ],
      "source": [
        "# compute the standard deviation along the row\n",
        "print(np.std(arr, axis=0))"
      ]
    },
    {
      "cell_type": "code",
      "execution_count": null,
      "metadata": {
        "id": "_OSdHyMId7LM",
        "outputId": "69433998-9c8c-4d6f-cb91-506775088b8b"
      },
      "outputs": [
        {
          "name": "stdout",
          "output_type": "stream",
          "text": [
            "[0.33997649 0.21759869 0.29739013 0.20049061 0.13310804]\n"
          ]
        }
      ],
      "source": [
        "# compute the standard deviation along the column\n",
        "print(np.std(arr, axis=1))"
      ]
    },
    {
      "cell_type": "code",
      "execution_count": null,
      "metadata": {
        "id": "nCedLEf5d7LM",
        "outputId": "bba756e8-edb8-45aa-e062-ce9cc5d86458"
      },
      "outputs": [
        {
          "name": "stdout",
          "output_type": "stream",
          "text": [
            "0.06403568505516823\n"
          ]
        }
      ],
      "source": [
        "# compute the overall variance\n",
        "print(np.var(arr))"
      ]
    },
    {
      "cell_type": "code",
      "execution_count": null,
      "metadata": {
        "id": "hCVMpC9qd7LM",
        "outputId": "4cb3bda7-d8b8-4210-f1cb-e8454887870b"
      },
      "outputs": [
        {
          "name": "stdout",
          "output_type": "stream",
          "text": [
            "[0.02280245 0.07256599 0.03334464 0.0400337  0.11227883]\n"
          ]
        }
      ],
      "source": [
        "# compute the variance along the row\n",
        "print(np.var(arr, axis=0))"
      ]
    },
    {
      "cell_type": "code",
      "execution_count": null,
      "metadata": {
        "id": "ZqBii3WNd7LM",
        "outputId": "2b28c414-8957-4b2d-d7b3-6c76debe7fd8"
      },
      "outputs": [
        {
          "name": "stdout",
          "output_type": "stream",
          "text": [
            "[0.11558401 0.04734919 0.08844089 0.04019649 0.01771775]\n"
          ]
        }
      ],
      "source": [
        "# compute the variance along the column\n",
        "print(np.var(arr, axis=1))"
      ]
    },
    {
      "cell_type": "markdown",
      "metadata": {
        "id": "iqzlywtxd7LN"
      },
      "source": [
        "### compute the covariance & correlation"
      ]
    },
    {
      "cell_type": "code",
      "execution_count": null,
      "metadata": {
        "id": "w_PqmxDcd7LN"
      },
      "outputs": [],
      "source": [
        "arr = np.random.rand(5,8)"
      ]
    },
    {
      "cell_type": "code",
      "execution_count": null,
      "metadata": {
        "id": "ciijxXPed7LN",
        "outputId": "d8c3cb92-27b4-4ded-dc26-379900247fea"
      },
      "outputs": [
        {
          "name": "stdout",
          "output_type": "stream",
          "text": [
            "[[ 0.05402285  0.03916784  0.03506723  0.0367739  -0.02741259]\n",
            " [ 0.03916784  0.03992086  0.01853696  0.04299328 -0.02678781]\n",
            " [ 0.03506723  0.01853696  0.06217596  0.01094847  0.00254219]\n",
            " [ 0.0367739   0.04299328  0.01094847  0.11372942 -0.02614117]\n",
            " [-0.02741259 -0.02678781  0.00254219 -0.02614117  0.06564368]]\n"
          ]
        }
      ],
      "source": [
        "print(np.cov(arr))"
      ]
    },
    {
      "cell_type": "code",
      "execution_count": null,
      "metadata": {
        "id": "M6nRHHw6d7LN",
        "outputId": "b777b687-df1a-4ad3-d043-acf285baa666"
      },
      "outputs": [
        {
          "name": "stdout",
          "output_type": "stream",
          "text": [
            "[[ 1.         -0.54127501]\n",
            " [-0.54127501  1.        ]]\n"
          ]
        }
      ],
      "source": [
        "print(np.corrcoef(arr[:,0], arr[:,1]))"
      ]
    },
    {
      "cell_type": "markdown",
      "metadata": {
        "id": "LeY4yVgzd7LN"
      },
      "source": [
        "### compute cumulative sum & product"
      ]
    },
    {
      "cell_type": "code",
      "execution_count": null,
      "metadata": {
        "id": "7M7UHsz8d7LN",
        "outputId": "cf037417-5b7a-4f15-84b5-e8204cd38e4b"
      },
      "outputs": [
        {
          "name": "stdout",
          "output_type": "stream",
          "text": [
            "[[0.40939041 0.37251939 0.33997017 0.81257008 0.52820553 0.55382711\n",
            "  0.11720684 0.78460482]\n",
            " [0.8439766  0.44974212 0.5217817  1.33358096 1.0075397  0.8673696\n",
            "  0.21687605 1.38115748]\n",
            " [1.09214649 1.05408228 0.82689535 2.2308859  1.58955502 1.57986202\n",
            "  0.90049152 2.32777838]\n",
            " [2.00537774 1.10533719 1.20721083 2.79474244 1.72212877 2.15499731\n",
            "  1.22305927 3.31170594]\n",
            " [2.58104356 1.73506483 1.60822311 3.5393725  2.12331469 2.92047243\n",
            "  2.20549051 3.47982271]]\n"
          ]
        }
      ],
      "source": [
        "# calculate the cumulative sums along the row\n",
        "print(np.cumsum(arr, axis=0))"
      ]
    },
    {
      "cell_type": "code",
      "execution_count": null,
      "metadata": {
        "id": "9pOOpKhhd7LN",
        "outputId": "7a3a6f5b-dbda-49bb-91e6-6e590c539a51"
      },
      "outputs": [
        {
          "name": "stdout",
          "output_type": "stream",
          "text": [
            "[[0.40939041 0.7819098  1.12187997 1.93445006 2.46265559 3.01648269\n",
            "  3.13368953 3.91829435]\n",
            " [0.43458619 0.51180891 0.69362044 1.21463132 1.69396549 2.00750798\n",
            "  2.10717719 2.70372985]\n",
            " [0.24816989 0.85251005 1.1576237  2.05492864 2.63694396 3.34943639\n",
            "  4.03305187 4.97967276]\n",
            " [0.91323126 0.96448617 1.34480165 1.90865819 2.04123193 2.61636722\n",
            "  2.93893496 3.92286253]\n",
            " [0.57566582 1.20539345 1.60640573 2.35103579 2.75222172 3.51769684\n",
            "  4.50012808 4.66824484]]\n"
          ]
        }
      ],
      "source": [
        "# calculate the cumulative sums along the column\n",
        "print(np.cumsum(arr, axis=1))"
      ]
    },
    {
      "cell_type": "code",
      "execution_count": null,
      "metadata": {
        "id": "LUi8NfZcd7LN",
        "outputId": "f713f22f-697a-4b60-daf2-bde6506e811e"
      },
      "outputs": [
        {
          "name": "stdout",
          "output_type": "stream",
          "text": [
            "[[4.09390413e-01 3.72519391e-01 3.39970171e-01 8.12570084e-01\n",
            "  5.28205526e-01 5.53827107e-01 1.17206838e-01 7.84604818e-01]\n",
            " [1.77915418e-01 2.87669636e-02 6.18104970e-02 4.23357851e-01\n",
            "  2.53186958e-01 1.73648331e-01 1.16819128e-02 4.68058094e-01]\n",
            " [4.41532491e-02 1.73850315e-02 1.88592261e-02 3.79881090e-01\n",
            "  1.47358690e-01 1.23723121e-01 7.98593639e-03 4.43073573e-01]\n",
            " [4.03221272e-02 8.91068216e-04 7.17245569e-03 2.14198438e-01\n",
            "  1.95358928e-02 7.11575323e-02 2.57600551e-03 4.35952301e-01]\n",
            " [2.32120703e-02 5.61130279e-04 2.87624278e-03 1.59498596e-01\n",
            "  7.83752521e-03 5.44693209e-02 2.53074828e-03 7.32908915e-02]]\n"
          ]
        }
      ],
      "source": [
        "# calculate the cumulative product along the row\n",
        "print(np.cumprod(arr, axis=0))"
      ]
    },
    {
      "cell_type": "code",
      "execution_count": null,
      "metadata": {
        "id": "IvmEDGYgd7LO",
        "outputId": "209027de-3253-4eb0-fdb8-4666c84d60bb"
      },
      "outputs": [
        {
          "name": "stdout",
          "output_type": "stream",
          "text": [
            "[[4.09390413e-01 1.52505867e-01 5.18474458e-02 4.21296834e-02\n",
            "  2.22531316e-02 1.23243875e-02 1.44450249e-03 1.13336361e-03]\n",
            " [4.34586185e-01 3.35599307e-02 6.10158235e-03 3.17899076e-03\n",
            "  1.52379890e-03 4.77775703e-04 4.76195265e-05 2.84075554e-05]\n",
            " [2.48169887e-01 1.49979030e-01 4.57606489e-02 4.10612562e-02\n",
            "  2.38982805e-02 1.70273439e-02 1.16401558e-02 1.10188147e-02]\n",
            " [9.13231256e-01 4.68075854e-02 1.78016494e-02 1.00375765e-02\n",
            "  1.33071906e-03 7.65343488e-04 2.46875125e-04 2.42907240e-04]\n",
            " [5.75665818e-01 3.62512674e-01 1.45372033e-01 1.08248386e-01\n",
            "  4.34277288e-02 3.32428461e-02 3.26588104e-02 5.49049362e-03]]\n"
          ]
        }
      ],
      "source": [
        "# calculate the cumulative product along the column\n",
        "print(np.cumprod(arr, axis=1))"
      ]
    },
    {
      "cell_type": "markdown",
      "metadata": {
        "id": "dNBMQdBhd7LO"
      },
      "source": [
        "### element-wise comparison"
      ]
    },
    {
      "cell_type": "code",
      "execution_count": null,
      "metadata": {
        "id": "g2JPmpSFd7LO"
      },
      "outputs": [],
      "source": [
        "arr1 = np.array([1,2,3,4,5])\n",
        "arr2 = np.array([5,4,3,2,1])"
      ]
    },
    {
      "cell_type": "code",
      "execution_count": null,
      "metadata": {
        "id": "ZcWJgjbHd7LO",
        "outputId": "72e904b3-8f18-4a54-d965-f86c6b86c6a5"
      },
      "outputs": [
        {
          "name": "stdout",
          "output_type": "stream",
          "text": [
            "[False False  True False False]\n",
            "[ True  True False False False]\n"
          ]
        }
      ],
      "source": [
        "# return an array of bools\n",
        "print(arr1 == arr2)\n",
        "print(arr1 < 3)"
      ]
    },
    {
      "cell_type": "markdown",
      "metadata": {
        "id": "9vAIYTrWd7LO"
      },
      "source": [
        "# 5. Slicing & Indexing"
      ]
    },
    {
      "cell_type": "code",
      "execution_count": null,
      "metadata": {
        "id": "O1xIZDE4d7LO"
      },
      "outputs": [],
      "source": [
        "arr = np.array(range(100)).reshape((10,10))"
      ]
    },
    {
      "cell_type": "markdown",
      "metadata": {
        "id": "F9pY-bfRd7LO"
      },
      "source": [
        "### select an element by row and column indices"
      ]
    },
    {
      "cell_type": "code",
      "execution_count": null,
      "metadata": {
        "id": "Wj01iCa-d7LO",
        "outputId": "66aa13bc-d4bc-4566-dd4a-260fa76bb6ab"
      },
      "outputs": [
        {
          "name": "stdout",
          "output_type": "stream",
          "text": [
            "55\n",
            "55\n"
          ]
        }
      ],
      "source": [
        "print(arr[5][5])\n",
        "# or more concisely\n",
        "print(arr[5,5])"
      ]
    },
    {
      "cell_type": "markdown",
      "metadata": {
        "id": "8JCVVjfwd7LP"
      },
      "source": [
        "### indexing with slicing"
      ]
    },
    {
      "cell_type": "code",
      "execution_count": null,
      "metadata": {
        "id": "grUJFl_Md7LP",
        "outputId": "bbfe3def-844a-443f-f98c-d1e1a3b80405"
      },
      "outputs": [
        {
          "name": "stdout",
          "output_type": "stream",
          "text": [
            "[[14 15]\n",
            " [24 25]]\n"
          ]
        }
      ],
      "source": [
        "print(arr[1:3, 4:6])"
      ]
    },
    {
      "cell_type": "code",
      "execution_count": null,
      "metadata": {
        "id": "TUqg34YOd7LP",
        "outputId": "c24f3758-438c-48fb-ad92-1d9170634603"
      },
      "outputs": [
        {
          "name": "stdout",
          "output_type": "stream",
          "text": [
            "[[[0 1]\n",
            "  [2 3]]\n",
            "\n",
            " [[4 5]\n",
            "  [6 7]]]\n"
          ]
        }
      ],
      "source": [
        "# ellipsis slicing: auto-complete the dimensions\n",
        "arr = np.array(range(16)).reshape(2,2,2,2)\n",
        "# equivalent to arr[0,:,:,:]\n",
        "print(arr[0, ...])"
      ]
    },
    {
      "cell_type": "markdown",
      "metadata": {
        "id": "sirh3mKKd7LP"
      },
      "source": [
        "### assign a scalar to a slice by broadcasting"
      ]
    },
    {
      "cell_type": "code",
      "execution_count": null,
      "metadata": {
        "id": "cSEyO3qWd7LP",
        "outputId": "d2bd4f91-edfd-4804-bd57-5221b297aa65"
      },
      "outputs": [
        {
          "name": "stdout",
          "output_type": "stream",
          "text": [
            "[[[[  0   1]\n",
            "   [  2   3]]\n",
            "\n",
            "  [[  4   5]\n",
            "   [  6   7]]]\n",
            "\n",
            "\n",
            " [[[100 100]\n",
            "   [100 100]]\n",
            "\n",
            "  [[100 100]\n",
            "   [100 100]]]]\n"
          ]
        }
      ],
      "source": [
        "arr[1:3,:] = 100    # or simply arr[1:3]\n",
        "arr[:,8:] = 100\n",
        "print(arr)"
      ]
    },
    {
      "cell_type": "markdown",
      "metadata": {
        "id": "VMcgXa2Hd7LP"
      },
      "source": [
        "### boolean indexing"
      ]
    },
    {
      "cell_type": "code",
      "execution_count": null,
      "metadata": {
        "id": "NHSfTIH0d7LP",
        "outputId": "5499a785-b548-4232-f1e8-df2e9d048a3f"
      },
      "outputs": [
        {
          "name": "stdout",
          "output_type": "stream",
          "text": [
            "[[ 0  1  2  3  4]\n",
            " [ 5  6  7  8  9]\n",
            " [15 16 17 18 19]]\n"
          ]
        }
      ],
      "source": [
        "arr1 = np.arange(25).reshape((5,5))\n",
        "bools = np.array([True, True, False, True, False])\n",
        "print(arr1[bools])"
      ]
    },
    {
      "cell_type": "code",
      "execution_count": null,
      "metadata": {
        "id": "ujmQYIu1d7LQ",
        "outputId": "5e5ef9d8-2d1a-4fb5-b8a5-ee962deb242a"
      },
      "outputs": [
        {
          "name": "stdout",
          "output_type": "stream",
          "text": [
            "[[10 11 12 13 14]\n",
            " [20 21 22 23 24]]\n"
          ]
        }
      ],
      "source": [
        "# negate the condition\n",
        "print(arr1[~bools])"
      ]
    },
    {
      "cell_type": "code",
      "execution_count": null,
      "metadata": {
        "id": "1bHkrfqhd7LQ",
        "outputId": "100141a5-96cc-4b6d-fdd0-78e39ad900df"
      },
      "outputs": [
        {
          "name": "stdout",
          "output_type": "stream",
          "text": [
            "[[ 0  1  2  3  4]\n",
            " [20 21 22 23 24]]\n"
          ]
        }
      ],
      "source": [
        "arr2 = np.array([1,2,3,4,5])\n",
        "# multiple conditions\n",
        "print(arr1[(arr2<2) | (arr2>4)])"
      ]
    },
    {
      "cell_type": "markdown",
      "metadata": {
        "id": "-XEjiKL5d7LQ"
      },
      "source": [
        "### fancy indexing"
      ]
    },
    {
      "cell_type": "code",
      "execution_count": null,
      "metadata": {
        "id": "EEh70yXkd7LQ"
      },
      "outputs": [],
      "source": [
        "arr = np.random.rand(10,10)"
      ]
    },
    {
      "cell_type": "code",
      "execution_count": null,
      "metadata": {
        "id": "L6nSV0prd7LQ",
        "outputId": "a2b99986-d826-4a4d-887a-d09e88a04c57"
      },
      "outputs": [
        {
          "name": "stdout",
          "output_type": "stream",
          "text": [
            "[0.71525681 0.76243827 0.63775096]\n"
          ]
        }
      ],
      "source": [
        "# select arr[3,3], arr[1,2], arr[2,1]\n",
        "print(arr[[3,1,2], [3,2,1]])"
      ]
    },
    {
      "cell_type": "code",
      "execution_count": null,
      "metadata": {
        "id": "ffcocjFQd7LR",
        "outputId": "c9f204cc-3054-474e-9c4c-4c5bf7ec89ed"
      },
      "outputs": [
        {
          "name": "stdout",
          "output_type": "stream",
          "text": [
            "[[0.28141752 0.62828149 0.07751835]\n",
            " [0.67523336 0.35299237 0.45959692]\n",
            " [0.53945097 0.83891327 0.56634674]]\n"
          ]
        }
      ],
      "source": [
        "# select rows 3,1,2 and columns 6,4,8\n",
        "print(arr[[3,1,2]][:, [6,4,8]])"
      ]
    },
    {
      "cell_type": "markdown",
      "metadata": {
        "id": "9VKBz2Pyd7LR"
      },
      "source": [
        "### dimension inference"
      ]
    },
    {
      "cell_type": "code",
      "execution_count": null,
      "metadata": {
        "id": "p-_hlNWbd7LR",
        "outputId": "f5d0af7c-299d-445b-e59c-77298123bba1"
      },
      "outputs": [
        {
          "name": "stdout",
          "output_type": "stream",
          "text": [
            "(4, 4)\n"
          ]
        }
      ],
      "source": [
        "# dimension inference using any negative number (usually -1)\n",
        "arr = np.array(range(16)).reshape((4,-1))\n",
        "print(arr.shape)"
      ]
    },
    {
      "cell_type": "markdown",
      "metadata": {
        "id": "LcVdQ4c1d7LR"
      },
      "source": [
        "### find elements/indices by conditions"
      ]
    },
    {
      "cell_type": "code",
      "execution_count": null,
      "metadata": {
        "id": "RK5VlgYWd7LR"
      },
      "outputs": [],
      "source": [
        "arr = np.arange(16).reshape(4,4)"
      ]
    },
    {
      "cell_type": "code",
      "execution_count": null,
      "metadata": {
        "id": "AObMOvU4d7LR",
        "outputId": "c96ca823-2593-41c5-e3ed-ff28dfe13fa9"
      },
      "outputs": [
        {
          "name": "stdout",
          "output_type": "stream",
          "text": [
            "[ 6  7  8  9 10 11 12 13 14 15]\n"
          ]
        }
      ],
      "source": [
        "# find the elements greater than 5 and return a flattened array\n",
        "print(arr[arr>5])    # or arr[np.where(arr>5)]"
      ]
    },
    {
      "cell_type": "code",
      "execution_count": null,
      "metadata": {
        "id": "J_u-QkCkd7LR",
        "outputId": "93125bb0-5960-4511-afcc-e26617413321"
      },
      "outputs": [
        {
          "name": "stdout",
          "output_type": "stream",
          "text": [
            "[[10 10 10 10]\n",
            " [10 10 -1 -1]\n",
            " [-1 -1 -1 -1]\n",
            " [-1 -1 -1 -1]]\n"
          ]
        }
      ],
      "source": [
        "# return values based on conditions\n",
        "# np.where(condition, true_return, false_return)\n",
        "print(np.where(arr>5, -1, 10))"
      ]
    },
    {
      "cell_type": "code",
      "execution_count": null,
      "metadata": {
        "id": "DNsInnJPd7LS",
        "outputId": "d2f8d831-9e05-4117-b6d8-52d0638cbefb"
      },
      "outputs": [
        {
          "name": "stdout",
          "output_type": "stream",
          "text": [
            "[[1 2]\n",
            " [1 3]\n",
            " [2 0]\n",
            " [2 1]\n",
            " [2 2]\n",
            " [2 3]\n",
            " [3 0]\n",
            " [3 1]\n",
            " [3 2]\n",
            " [3 3]]\n"
          ]
        }
      ],
      "source": [
        "# find the indices of the elements on conditions\n",
        "print(np.argwhere(arr>5))"
      ]
    },
    {
      "cell_type": "markdown",
      "metadata": {
        "id": "1GkDRyXsd7LS"
      },
      "source": [
        "# 6. Sort an Array"
      ]
    },
    {
      "cell_type": "code",
      "execution_count": null,
      "metadata": {
        "id": "lo20ZiYtd7LS"
      },
      "outputs": [],
      "source": [
        "arr = np.random.rand(5,5)"
      ]
    },
    {
      "cell_type": "markdown",
      "metadata": {
        "id": "MlTSpqN5d7LS"
      },
      "source": [
        "### sort an array along a specified axis"
      ]
    },
    {
      "cell_type": "code",
      "execution_count": null,
      "metadata": {
        "id": "WjD1MdiKd7LU",
        "outputId": "93ad80ec-36a5-4f3b-8f01-0abb8f46412f"
      },
      "outputs": [
        {
          "name": "stdout",
          "output_type": "stream",
          "text": [
            "[[0.11702945 0.17913374 0.06753657 0.02945699 0.05396756]\n",
            " [0.13630925 0.18249983 0.41165849 0.12910116 0.31981183]\n",
            " [0.36056504 0.51866089 0.42053876 0.56232065 0.37163583]\n",
            " [0.44498496 0.62847058 0.42945962 0.70682921 0.43148605]\n",
            " [0.7740198  0.74238635 0.55147061 0.86890785 0.75572196]]\n"
          ]
        }
      ],
      "source": [
        "# sort along the row and return a copy\n",
        "print(np.sort(arr, axis=0))"
      ]
    },
    {
      "cell_type": "code",
      "execution_count": null,
      "metadata": {
        "id": "QjAtfd4Fd7LV",
        "outputId": "3d1ca4e0-a460-4621-d37d-91950398fe2d"
      },
      "outputs": [
        {
          "name": "stdout",
          "output_type": "stream",
          "text": [
            "[[0.11702945 0.17913374 0.06753657 0.02945699 0.05396756]\n",
            " [0.13630925 0.18249983 0.41165849 0.12910116 0.31981183]\n",
            " [0.36056504 0.51866089 0.42053876 0.56232065 0.37163583]\n",
            " [0.44498496 0.62847058 0.42945962 0.70682921 0.43148605]\n",
            " [0.7740198  0.74238635 0.55147061 0.86890785 0.75572196]]\n"
          ]
        }
      ],
      "source": [
        "# sort along the row in place\n",
        "arr.sort(axis=0)\n",
        "print(arr)"
      ]
    },
    {
      "cell_type": "code",
      "execution_count": null,
      "metadata": {
        "id": "BULMs-lkd7LV",
        "outputId": "2245c791-484f-49c8-e60c-b3b69e71a303"
      },
      "outputs": [
        {
          "name": "stdout",
          "output_type": "stream",
          "text": [
            "[[0.02945699 0.05396756 0.06753657 0.11702945 0.17913374]\n",
            " [0.12910116 0.13630925 0.18249983 0.31981183 0.41165849]\n",
            " [0.36056504 0.37163583 0.42053876 0.51866089 0.56232065]\n",
            " [0.42945962 0.43148605 0.44498496 0.62847058 0.70682921]\n",
            " [0.55147061 0.74238635 0.75572196 0.7740198  0.86890785]]\n"
          ]
        }
      ],
      "source": [
        "# sort along the column and return a copy\n",
        "print(np.sort(arr, axis=1))"
      ]
    },
    {
      "cell_type": "code",
      "execution_count": null,
      "metadata": {
        "id": "bk2t4x5xd7LV",
        "outputId": "faa96512-6fcf-43ef-e14b-65c87a70b7b6"
      },
      "outputs": [
        {
          "name": "stdout",
          "output_type": "stream",
          "text": [
            "[[0.02945699 0.05396756 0.06753657 0.11702945 0.17913374]\n",
            " [0.12910116 0.13630925 0.18249983 0.31981183 0.41165849]\n",
            " [0.36056504 0.37163583 0.42053876 0.51866089 0.56232065]\n",
            " [0.42945962 0.43148605 0.44498496 0.62847058 0.70682921]\n",
            " [0.55147061 0.74238635 0.75572196 0.7740198  0.86890785]]\n"
          ]
        }
      ],
      "source": [
        "# sort along the column in place\n",
        "arr.sort(axis=1)\n",
        "print(arr)"
      ]
    },
    {
      "cell_type": "markdown",
      "metadata": {
        "id": "AppVj-45d7LV"
      },
      "source": [
        "### compute the indices that would sort an array along a specified axis"
      ]
    },
    {
      "cell_type": "code",
      "execution_count": null,
      "metadata": {
        "id": "jxnruslFd7LV"
      },
      "outputs": [],
      "source": [
        "arr = np.random.rand(5,5)"
      ]
    },
    {
      "cell_type": "code",
      "execution_count": null,
      "metadata": {
        "id": "kbHydsZwd7LV",
        "outputId": "070de654-6355-43c8-ff76-fb71daa261a3"
      },
      "outputs": [
        {
          "name": "stdout",
          "output_type": "stream",
          "text": [
            "[[1 0 0 4 3]\n",
            " [3 2 2 1 0]\n",
            " [4 4 3 0 1]\n",
            " [2 1 1 2 4]\n",
            " [0 3 4 3 2]]\n"
          ]
        }
      ],
      "source": [
        "# along the row\n",
        "print(np.argsort(arr, axis=0))"
      ]
    },
    {
      "cell_type": "code",
      "execution_count": null,
      "metadata": {
        "id": "KzrsBAs6d7LV",
        "outputId": "8dbb64d7-9ad1-42c8-a146-6bd9b69a3650"
      },
      "outputs": [
        {
          "name": "stdout",
          "output_type": "stream",
          "text": [
            "[[1 2 4 3 0]\n",
            " [0 3 1 4 2]\n",
            " [1 2 0 3 4]\n",
            " [0 4 2 1 3]\n",
            " [3 0 1 4 2]]\n"
          ]
        }
      ],
      "source": [
        "# along the column\n",
        "print(np.argsort(arr, axis=1))"
      ]
    },
    {
      "cell_type": "code",
      "execution_count": null,
      "metadata": {
        "id": "VDfPl8n-d7LW",
        "outputId": "5e015791-eac5-40d3-92d2-5783e0edaa5c"
      },
      "outputs": [
        {
          "name": "stdout",
          "output_type": "stream",
          "text": [
            "[ 5 23  1 15  2 20 19 11  8 12 17  4  3 21  6  9 24 10 16 13 14  7 22 18\n",
            "  0]\n"
          ]
        }
      ],
      "source": [
        "# if axis=None, return the indices of a flattened array\n",
        "print(np.argsort(arr, axis=None))"
      ]
    },
    {
      "cell_type": "code",
      "execution_count": null,
      "metadata": {
        "id": "1uiY_fKbd7LW"
      },
      "outputs": [],
      "source": [
        "arr = np.random.rand(3,4)"
      ]
    },
    {
      "cell_type": "markdown",
      "metadata": {
        "id": "bxZcx9RYd7LW"
      },
      "source": [
        "# 7. Manipulate an Array"
      ]
    },
    {
      "cell_type": "markdown",
      "metadata": {
        "id": "dWn5BZtld7LW"
      },
      "source": [
        "### transpose an array"
      ]
    },
    {
      "cell_type": "code",
      "execution_count": null,
      "metadata": {
        "id": "bFq-l7jud7LW",
        "outputId": "304735a6-7e1e-4f88-d225-09d3b181bf37"
      },
      "outputs": [
        {
          "name": "stdout",
          "output_type": "stream",
          "text": [
            "[[0.80614361 0.61240133 0.73322903]\n",
            " [0.86728799 0.65205696 0.13585084]\n",
            " [0.08910079 0.05760322 0.56708195]\n",
            " [0.67553447 0.38582245 0.02315444]]\n",
            "[[0.80614361 0.61240133 0.73322903]\n",
            " [0.86728799 0.65205696 0.13585084]\n",
            " [0.08910079 0.05760322 0.56708195]\n",
            " [0.67553447 0.38582245 0.02315444]]\n",
            "[[0.80614361 0.61240133 0.73322903]\n",
            " [0.86728799 0.65205696 0.13585084]\n",
            " [0.08910079 0.05760322 0.56708195]\n",
            " [0.67553447 0.38582245 0.02315444]]\n"
          ]
        }
      ],
      "source": [
        "# the following methods return a copy\n",
        "print(arr.T)\n",
        "# or\n",
        "print(np.transpose(arr))\n",
        "# or\n",
        "print(arr.transpose())"
      ]
    },
    {
      "cell_type": "markdown",
      "metadata": {
        "id": "wdrj5TL8d7LX"
      },
      "source": [
        "### transpose of a high dimensional array with specified order of axes"
      ]
    },
    {
      "cell_type": "code",
      "execution_count": null,
      "metadata": {
        "id": "OxBgQiOHd7LX",
        "outputId": "b11244dc-5825-4442-c93a-b1101096b782"
      },
      "outputs": [
        {
          "name": "stdout",
          "output_type": "stream",
          "text": [
            "[[[ 0  1  2  3]\n",
            "  [ 4  5  6  7]]\n",
            "\n",
            " [[ 8  9 10 11]\n",
            "  [12 13 14 15]]]\n",
            "[[[ 0  1  2  3]\n",
            "  [ 4  5  6  7]]\n",
            "\n",
            " [[ 8  9 10 11]\n",
            "  [12 13 14 15]]]\n"
          ]
        }
      ],
      "source": [
        "arr1 = np.arange(16).reshape((2,2,4))\n",
        "print(arr1)\n",
        "\n",
        "arr1.transpose((1,0,2))\n",
        "print(arr1)"
      ]
    },
    {
      "cell_type": "markdown",
      "metadata": {
        "id": "Wid2MgwOd7LX"
      },
      "source": [
        "### swap axes"
      ]
    },
    {
      "cell_type": "code",
      "execution_count": null,
      "metadata": {
        "id": "3n3mq8vgd7LX",
        "outputId": "cb2f81db-f665-435c-a4ca-415e4e63252b"
      },
      "outputs": [
        {
          "name": "stdout",
          "output_type": "stream",
          "text": [
            "[[[ 0  4]\n",
            "  [ 1  5]\n",
            "  [ 2  6]\n",
            "  [ 3  7]]\n",
            "\n",
            " [[ 8 12]\n",
            "  [ 9 13]\n",
            "  [10 14]\n",
            "  [11 15]]]\n"
          ]
        }
      ],
      "source": [
        "arr1 = np.arange(16).reshape((2,2,4))\n",
        "print(arr1.swapaxes(1,2))"
      ]
    },
    {
      "cell_type": "markdown",
      "metadata": {
        "id": "63cfrOXDd7LX"
      },
      "source": [
        "### change the shape of an array"
      ]
    },
    {
      "cell_type": "code",
      "execution_count": null,
      "metadata": {
        "id": "bBZCrtnrd7LX",
        "outputId": "1dd8d4fc-f176-4800-a115-a78a686169d7"
      },
      "outputs": [
        {
          "data": {
            "text/plain": [
              "array([[0.80614361, 0.86728799, 0.08910079, 0.67553447, 0.61240133,\n",
              "        0.65205696],\n",
              "       [0.05760322, 0.38582245, 0.73322903, 0.13585084, 0.56708195,\n",
              "        0.02315444]])"
            ]
          },
          "execution_count": 128,
          "metadata": {},
          "output_type": "execute_result"
        }
      ],
      "source": [
        "# change the shape of an array and return a copy\n",
        "arr.reshape((2,6))"
      ]
    },
    {
      "cell_type": "code",
      "execution_count": null,
      "metadata": {
        "id": "cm6o9_PMd7LY"
      },
      "outputs": [],
      "source": [
        "# change the shape of an array in place\n",
        "arr.resize((2,6))"
      ]
    },
    {
      "cell_type": "markdown",
      "metadata": {
        "id": "1vIhTqend7LY"
      },
      "source": [
        "### flatten an array"
      ]
    },
    {
      "cell_type": "code",
      "execution_count": null,
      "metadata": {
        "id": "kuJcGMWqd7LY",
        "outputId": "28fd68ba-688d-4f00-d645-0b6065c8a937"
      },
      "outputs": [
        {
          "data": {
            "text/plain": [
              "array([0.80614361, 0.86728799, 0.08910079, 0.67553447, 0.61240133,\n",
              "       0.65205696, 0.05760322, 0.38582245, 0.73322903, 0.13585084,\n",
              "       0.56708195, 0.02315444])"
            ]
          },
          "execution_count": 130,
          "metadata": {},
          "output_type": "execute_result"
        }
      ],
      "source": [
        "# return a copy\n",
        "arr.flatten()"
      ]
    },
    {
      "cell_type": "code",
      "execution_count": null,
      "metadata": {
        "id": "t88gEc6ud7LY",
        "outputId": "8ec4aca7-8139-4053-9169-a44161a53f2a"
      },
      "outputs": [
        {
          "data": {
            "text/plain": [
              "array([0.80614361, 0.86728799, 0.08910079, 0.67553447, 0.61240133,\n",
              "       0.65205696, 0.05760322, 0.38582245, 0.73322903, 0.13585084,\n",
              "       0.56708195, 0.02315444])"
            ]
          },
          "execution_count": 131,
          "metadata": {},
          "output_type": "execute_result"
        }
      ],
      "source": [
        "# return a view\n",
        "# change any element in the view will change the initial array\n",
        "arr.ravel()"
      ]
    },
    {
      "cell_type": "markdown",
      "metadata": {
        "id": "_lMfJidhd7LY"
      },
      "source": [
        "### append elements to an array"
      ]
    },
    {
      "cell_type": "code",
      "execution_count": null,
      "metadata": {
        "id": "RlMKgBZld7LY"
      },
      "outputs": [],
      "source": [
        "arr = np.array([1,2,3])"
      ]
    },
    {
      "cell_type": "code",
      "execution_count": null,
      "metadata": {
        "id": "ngeUgFnMd7LY",
        "outputId": "f21e1a13-bd94-41fb-c1ce-7fb7d28ec919"
      },
      "outputs": [
        {
          "name": "stdout",
          "output_type": "stream",
          "text": [
            "[1 2 3 4]\n"
          ]
        }
      ],
      "source": [
        "# append a scalar and return a copy\n",
        "arr1 = np.append(arr, 4)\n",
        "print(arr1)"
      ]
    },
    {
      "cell_type": "code",
      "execution_count": null,
      "metadata": {
        "id": "El0yf0B_d7LZ",
        "outputId": "140d2467-16fa-4c9f-dfc5-7c0d1eb513af"
      },
      "outputs": [
        {
          "name": "stdout",
          "output_type": "stream",
          "text": [
            "[1 2 3 4 5 6]\n"
          ]
        }
      ],
      "source": [
        "# append an array and return a copy\n",
        "arr2 = np.append(arr, [4,5,6])\n",
        "print(arr2)"
      ]
    },
    {
      "cell_type": "markdown",
      "metadata": {
        "id": "dh3Kipved7LZ"
      },
      "source": [
        "### insert elements into an array"
      ]
    },
    {
      "cell_type": "code",
      "execution_count": null,
      "metadata": {
        "id": "ZTdKrgwdd7LZ",
        "outputId": "faea3552-a9f1-4086-dff4-306980baf88f"
      },
      "outputs": [
        {
          "name": "stdout",
          "output_type": "stream",
          "text": [
            "[100   1   2   3]\n"
          ]
        }
      ],
      "source": [
        "# np.insert(array, position, element)\n",
        "\n",
        "# insert a scalar at a certain position\n",
        "arr3 = np.insert(arr, 0, 100)\n",
        "print(arr3)"
      ]
    },
    {
      "cell_type": "code",
      "execution_count": null,
      "metadata": {
        "id": "tTspF7gdd7LZ",
        "outputId": "743c7cce-3eca-4096-b039-e62399fcf265"
      },
      "outputs": [
        {
          "name": "stdout",
          "output_type": "stream",
          "text": [
            "[1 2 3 1 2 3]\n"
          ]
        }
      ],
      "source": [
        "# insert multiple values at a certain position\n",
        "arr3 = np.insert(arr, 0, [1,2,3])\n",
        "print(arr3)"
      ]
    },
    {
      "cell_type": "markdown",
      "metadata": {
        "id": "LceUJXhbd7LZ"
      },
      "source": [
        "### delete elements from an array"
      ]
    },
    {
      "cell_type": "code",
      "execution_count": null,
      "metadata": {
        "id": "vPpCAbXsd7LZ",
        "outputId": "5fd3f03b-e6f1-4f88-88ed-c75517f0dc8b"
      },
      "outputs": [
        {
          "name": "stdout",
          "output_type": "stream",
          "text": [
            "[2 3]\n"
          ]
        }
      ],
      "source": [
        "# remove the element at position 0\n",
        "arr4 = np.delete(arr, 0)\n",
        "print(arr4)"
      ]
    },
    {
      "cell_type": "code",
      "execution_count": null,
      "metadata": {
        "id": "X_JUJFyzd7La",
        "outputId": "97583798-3cf2-484f-80f1-f8d66ae8f85e"
      },
      "outputs": [
        {
          "name": "stdout",
          "output_type": "stream",
          "text": [
            "[2]\n"
          ]
        }
      ],
      "source": [
        "# remove the element at multiple positions\n",
        "arr4 = np.delete(arr, [0,2])\n",
        "print(arr4)"
      ]
    },
    {
      "cell_type": "markdown",
      "metadata": {
        "id": "sTz8pP1od7La"
      },
      "source": [
        "### copy an array"
      ]
    },
    {
      "cell_type": "code",
      "execution_count": null,
      "metadata": {
        "id": "8N_1ED4rd7La"
      },
      "outputs": [],
      "source": [
        "arr = np.array([1,2,3])"
      ]
    },
    {
      "cell_type": "code",
      "execution_count": null,
      "metadata": {
        "id": "BoDs1WyDd7La"
      },
      "outputs": [],
      "source": [
        "# the following methods are all deep copy\n",
        "arr1 = np.copy(arr)\n",
        "# or\n",
        "arr1 = arr.copy()\n",
        "# or\n",
        "arr1 = np.array(arr, copy=True)"
      ]
    },
    {
      "cell_type": "markdown",
      "metadata": {
        "id": "qCJCMN0Xd7La"
      },
      "source": [
        "# 8. Combine & Split an Array"
      ]
    },
    {
      "cell_type": "code",
      "execution_count": null,
      "metadata": {
        "id": "W_JyhLMzd7La"
      },
      "outputs": [],
      "source": [
        "arr1 = np.array([[1,2,3,4], [1,2,3,4]])\n",
        "arr2 = np.array([[5,6,7,8], [5,6,7,8]])"
      ]
    },
    {
      "cell_type": "markdown",
      "metadata": {
        "id": "MPI6iVted7La"
      },
      "source": [
        "### ```np.concatenate((a, b), axis=0)```"
      ]
    },
    {
      "cell_type": "code",
      "execution_count": null,
      "metadata": {
        "id": "MEAyUWP8d7La",
        "outputId": "f8cbf00a-7ead-4946-df18-4286b80d0e61"
      },
      "outputs": [
        {
          "name": "stdout",
          "output_type": "stream",
          "text": [
            "[[1 2 3 4]\n",
            " [1 2 3 4]\n",
            " [5 6 7 8]\n",
            " [5 6 7 8]]\n"
          ]
        }
      ],
      "source": [
        "# concat along the row\n",
        "cat = np.concatenate((arr1, arr2), axis=0)\n",
        "print(cat)"
      ]
    },
    {
      "cell_type": "code",
      "execution_count": null,
      "metadata": {
        "id": "r5wRVpP7d7Lb",
        "outputId": "1c670eab-3e48-438f-c74b-3fd170204ae4"
      },
      "outputs": [
        {
          "name": "stdout",
          "output_type": "stream",
          "text": [
            "[[1 2 3 4 5 6 7 8]\n",
            " [1 2 3 4 5 6 7 8]]\n"
          ]
        }
      ],
      "source": [
        "# concat along the column\n",
        "cat = np.concatenate((arr1, arr2), axis=1)\n",
        "print(cat)"
      ]
    },
    {
      "cell_type": "markdown",
      "metadata": {
        "id": "R3bfdjaGd7Lb"
      },
      "source": [
        "### ```np.vstack((a, b))```\n",
        "### ```np.r_[a, b]```"
      ]
    },
    {
      "cell_type": "code",
      "execution_count": null,
      "metadata": {
        "id": "HAL2LYrId7Lb",
        "outputId": "d40bc2db-0d82-4fbe-f058-c53a90a59752"
      },
      "outputs": [
        {
          "name": "stdout",
          "output_type": "stream",
          "text": [
            "[[1 2 3 4]\n",
            " [1 2 3 4]\n",
            " [5 6 7 8]\n",
            " [5 6 7 8]]\n"
          ]
        }
      ],
      "source": [
        "# stack arrays vertically\n",
        "cat = np.vstack((arr1, arr2))\n",
        "print(cat)"
      ]
    },
    {
      "cell_type": "code",
      "execution_count": null,
      "metadata": {
        "id": "PJ7Z2IR9d7Lb",
        "outputId": "39e595e1-08bb-41a9-a275-88e0e85ee521"
      },
      "outputs": [
        {
          "name": "stdout",
          "output_type": "stream",
          "text": [
            "[[1 2 3 4]\n",
            " [1 2 3 4]\n",
            " [5 6 7 8]\n",
            " [5 6 7 8]]\n"
          ]
        }
      ],
      "source": [
        "# stack arrays vertically\n",
        "cat = np.r_[arr1, arr2]\n",
        "print(cat)"
      ]
    },
    {
      "cell_type": "markdown",
      "metadata": {
        "id": "6_Y7rbFJd7Lb"
      },
      "source": [
        "### ```np.hstack((a, b))```\n",
        "### ```np.c_[a, b]```"
      ]
    },
    {
      "cell_type": "code",
      "execution_count": null,
      "metadata": {
        "id": "23i2tVCPd7Lb",
        "outputId": "67bf9871-73bb-4a89-e218-8be9006f5ac3"
      },
      "outputs": [
        {
          "name": "stdout",
          "output_type": "stream",
          "text": [
            "[[1 2 3 4 5 6 7 8]\n",
            " [1 2 3 4 5 6 7 8]]\n"
          ]
        }
      ],
      "source": [
        "# stack arrays horizontally\n",
        "cat = np.hstack((arr1, arr2))\n",
        "print(cat)"
      ]
    },
    {
      "cell_type": "code",
      "execution_count": null,
      "metadata": {
        "id": "7tllcsZid7Lb",
        "outputId": "37fde6db-b198-453d-875d-79895baeb66f"
      },
      "outputs": [
        {
          "name": "stdout",
          "output_type": "stream",
          "text": [
            "[[1 2 3 4 5 6 7 8]\n",
            " [1 2 3 4 5 6 7 8]]\n"
          ]
        }
      ],
      "source": [
        "# stack arrays horizontally\n",
        "cat = np.c_[arr1, arr2]\n",
        "print(cat)"
      ]
    },
    {
      "cell_type": "markdown",
      "metadata": {
        "id": "vXoiBUsGd7Lc"
      },
      "source": [
        "### split an array"
      ]
    },
    {
      "cell_type": "code",
      "execution_count": null,
      "metadata": {
        "id": "kXRyuwoMd7Lc"
      },
      "outputs": [],
      "source": [
        "arr = np.random.rand(6,6)"
      ]
    },
    {
      "cell_type": "code",
      "execution_count": null,
      "metadata": {
        "id": "9ooLuNDLd7Lc",
        "outputId": "db67f0a7-9adf-4cce-9d34-4bbfba4c0234"
      },
      "outputs": [
        {
          "name": "stdout",
          "output_type": "stream",
          "text": [
            "[array([[0.0174567 , 0.47275939, 0.84410265, 0.88709809, 0.30063103,\n",
            "        0.938766  ],\n",
            "       [0.58832418, 0.09871477, 0.09634253, 0.56561105, 0.75673868,\n",
            "        0.13910753],\n",
            "       [0.37247418, 0.98843246, 0.90281137, 0.35097407, 0.48843214,\n",
            "        0.60597433]]), array([[0.00713459, 0.06267544, 0.65672272, 0.15912001, 0.91006063,\n",
            "        0.3950984 ],\n",
            "       [0.46940726, 0.60966449, 0.82131635, 0.48112601, 0.24688737,\n",
            "        0.40234706],\n",
            "       [0.20452672, 0.77063506, 0.11895435, 0.98447605, 0.25656521,\n",
            "        0.39604327]])]\n"
          ]
        }
      ],
      "source": [
        "# split the array vertically into n evenly spaced chunks\n",
        "arr1 = np.vsplit(arr, 2)\n",
        "print(arr1)"
      ]
    },
    {
      "cell_type": "code",
      "execution_count": null,
      "metadata": {
        "id": "TBr2ZXHvd7Lc",
        "outputId": "c28ec23b-44c9-4173-c6a3-0448145dfab3"
      },
      "outputs": [
        {
          "name": "stdout",
          "output_type": "stream",
          "text": [
            "[array([[0.0174567 , 0.47275939, 0.84410265],\n",
            "       [0.58832418, 0.09871477, 0.09634253],\n",
            "       [0.37247418, 0.98843246, 0.90281137],\n",
            "       [0.00713459, 0.06267544, 0.65672272],\n",
            "       [0.46940726, 0.60966449, 0.82131635],\n",
            "       [0.20452672, 0.77063506, 0.11895435]]), array([[0.88709809, 0.30063103, 0.938766  ],\n",
            "       [0.56561105, 0.75673868, 0.13910753],\n",
            "       [0.35097407, 0.48843214, 0.60597433],\n",
            "       [0.15912001, 0.91006063, 0.3950984 ],\n",
            "       [0.48112601, 0.24688737, 0.40234706],\n",
            "       [0.98447605, 0.25656521, 0.39604327]])]\n"
          ]
        }
      ],
      "source": [
        "# split the array horizontally into n evenly spaced chunks\n",
        "arr2 = np.hsplit(arr, 2)\n",
        "print(arr2)"
      ]
    },
    {
      "cell_type": "markdown",
      "metadata": {
        "id": "Qk72vphQd7Lc"
      },
      "source": [
        "# 9. Set Operations"
      ]
    },
    {
      "cell_type": "markdown",
      "metadata": {
        "id": "AB47lqzId7Lc"
      },
      "source": [
        "### select the unique elements from an array"
      ]
    },
    {
      "cell_type": "code",
      "execution_count": null,
      "metadata": {
        "id": "-mbgkfANd7Lc",
        "outputId": "ce387ee8-83e4-4c06-e657-61831899df77"
      },
      "outputs": [
        {
          "name": "stdout",
          "output_type": "stream",
          "text": [
            "[1 2 3 4 5 6]\n"
          ]
        }
      ],
      "source": [
        "arr = np.array([1,1,2,2,3,3,4,5,6])\n",
        "print(np.unique(arr))"
      ]
    },
    {
      "cell_type": "code",
      "execution_count": null,
      "metadata": {
        "id": "xr3PEabUd7Lc",
        "outputId": "695cb82d-208e-404d-b1e3-b4b2dc668379"
      },
      "outputs": [
        {
          "name": "stdout",
          "output_type": "stream",
          "text": [
            "[1 2 3 4 5 6]\n",
            "[2 2 2 1 1 1]\n"
          ]
        }
      ],
      "source": [
        "# return the number of times each unique item appears\n",
        "arr = np.array([1,1,2,2,3,3,4,5,6])\n",
        "uniques, counts = np.unique(arr, return_counts=True)\n",
        "print(uniques)\n",
        "print(counts)"
      ]
    },
    {
      "cell_type": "markdown",
      "metadata": {
        "id": "g0UccvH1d7Ld"
      },
      "source": [
        "### compute the intersection & union of two arrays"
      ]
    },
    {
      "cell_type": "code",
      "execution_count": null,
      "metadata": {
        "id": "K9QEVACwd7Ld"
      },
      "outputs": [],
      "source": [
        "arr1 = np.array([1,2,3,4,5])\n",
        "arr2 = np.array([3,4,5,6,7])"
      ]
    },
    {
      "cell_type": "code",
      "execution_count": null,
      "metadata": {
        "id": "lXLt-Qhod7Ld",
        "outputId": "58651e9e-0aaf-4022-e25f-eb79de4292e7"
      },
      "outputs": [
        {
          "name": "stdout",
          "output_type": "stream",
          "text": [
            "[3 4 5]\n"
          ]
        }
      ],
      "source": [
        "# intersection\n",
        "print(np.intersect1d(arr1, arr2))"
      ]
    },
    {
      "cell_type": "code",
      "execution_count": null,
      "metadata": {
        "id": "zow1Vruyd7Ld",
        "outputId": "3e0b1866-2a99-4886-cebd-ed801c533f5a"
      },
      "outputs": [
        {
          "name": "stdout",
          "output_type": "stream",
          "text": [
            "[1 2 3 4 5 6 7]\n"
          ]
        }
      ],
      "source": [
        "# union\n",
        "print(np.union1d(arr1, arr2))"
      ]
    },
    {
      "cell_type": "markdown",
      "metadata": {
        "id": "cxElily5d7Ld"
      },
      "source": [
        "### compute whether each element of an array is contained in another"
      ]
    },
    {
      "cell_type": "code",
      "execution_count": null,
      "metadata": {
        "id": "yHu3RGjnd7Ld",
        "outputId": "bc6439a7-582f-44ce-a5dc-65429d69b134"
      },
      "outputs": [
        {
          "name": "stdout",
          "output_type": "stream",
          "text": [
            "[False False  True  True  True]\n"
          ]
        }
      ],
      "source": [
        "print(np.in1d(arr1, arr2))"
      ]
    },
    {
      "cell_type": "code",
      "execution_count": null,
      "metadata": {
        "id": "u5jU8GE0d7Ld",
        "outputId": "c4e0a140-4680-4d41-f8c5-58683e709f87"
      },
      "outputs": [
        {
          "name": "stdout",
          "output_type": "stream",
          "text": [
            "[False False  True  True  True]\n"
          ]
        }
      ],
      "source": [
        "# preserve the shape of the array in the output, if the array is of higher dimensions\n",
        "print(np.isin(arr1, arr2))"
      ]
    },
    {
      "cell_type": "markdown",
      "metadata": {
        "id": "edn21HJpd7Ld"
      },
      "source": [
        "### compute the elements in an array that are not in another"
      ]
    },
    {
      "cell_type": "code",
      "execution_count": null,
      "metadata": {
        "id": "Erj0Pm2xd7Le",
        "outputId": "03177f16-9151-4e41-d68d-5a56ad589ab3"
      },
      "outputs": [
        {
          "name": "stdout",
          "output_type": "stream",
          "text": [
            "[1 2]\n"
          ]
        }
      ],
      "source": [
        "print(np.setdiff1d(arr1, arr2))"
      ]
    },
    {
      "cell_type": "markdown",
      "metadata": {
        "id": "LlM2uwoHd7Le"
      },
      "source": [
        "### compute the elements in either of two arrays, but not both"
      ]
    },
    {
      "cell_type": "code",
      "execution_count": null,
      "metadata": {
        "id": "4H_6O1G3d7Le",
        "outputId": "22f70e8d-8c7a-4452-db08-3c1b1d464d91"
      },
      "outputs": [
        {
          "name": "stdout",
          "output_type": "stream",
          "text": [
            "[1 2 6 7]\n"
          ]
        }
      ],
      "source": [
        "print(np.setxor1d(arr1, arr2))"
      ]
    },
    {
      "cell_type": "markdown",
      "metadata": {
        "id": "qqi6cTQ1d7Le"
      },
      "source": [
        "# 10. Linear Algebra"
      ]
    },
    {
      "cell_type": "code",
      "execution_count": null,
      "metadata": {
        "id": "Aq5dec2cd7Le"
      },
      "outputs": [],
      "source": [
        "arr1 = np.random.rand(5,5)\n",
        "arr2 = np.random.rand(5,5)"
      ]
    },
    {
      "cell_type": "markdown",
      "metadata": {
        "id": "iNVGySURd7Le"
      },
      "source": [
        "### matrix multiplication"
      ]
    },
    {
      "cell_type": "code",
      "execution_count": null,
      "metadata": {
        "id": "xJILaQ4xd7Le",
        "outputId": "d62f514c-4669-44d4-a9ce-5fb7cc507fcd"
      },
      "outputs": [
        {
          "name": "stdout",
          "output_type": "stream",
          "text": [
            "[[2.51623511 2.86218675 2.46149074 2.04223873 1.68511463]\n",
            " [0.97887139 1.12545821 1.08799709 0.91490076 0.71161775]\n",
            " [1.76553731 2.31931894 1.70683443 1.69936475 1.24178866]\n",
            " [1.16873119 1.51462574 1.20311322 1.18600669 0.82424827]\n",
            " [1.15498347 1.31753805 1.11707168 0.8826558  0.70418125]]\n",
            "[[2.51623511 2.86218675 2.46149074 2.04223873 1.68511463]\n",
            " [0.97887139 1.12545821 1.08799709 0.91490076 0.71161775]\n",
            " [1.76553731 2.31931894 1.70683443 1.69936475 1.24178866]\n",
            " [1.16873119 1.51462574 1.20311322 1.18600669 0.82424827]\n",
            " [1.15498347 1.31753805 1.11707168 0.8826558  0.70418125]]\n",
            "[[2.51623511 2.86218675 2.46149074 2.04223873 1.68511463]\n",
            " [0.97887139 1.12545821 1.08799709 0.91490076 0.71161775]\n",
            " [1.76553731 2.31931894 1.70683443 1.69936475 1.24178866]\n",
            " [1.16873119 1.51462574 1.20311322 1.18600669 0.82424827]\n",
            " [1.15498347 1.31753805 1.11707168 0.8826558  0.70418125]]\n"
          ]
        }
      ],
      "source": [
        "print(arr1.dot(arr2))\n",
        "# or\n",
        "print(np.dot(arr1, arr2))\n",
        "# or\n",
        "print(arr1 @ arr2)"
      ]
    },
    {
      "cell_type": "markdown",
      "metadata": {
        "id": "_VZaK_Mjd7Le"
      },
      "source": [
        "### QR factorization"
      ]
    },
    {
      "cell_type": "code",
      "execution_count": null,
      "metadata": {
        "id": "jttjBnf2d7Lf",
        "outputId": "c493f200-064a-414f-a5cc-d9ae91ab7ab3"
      },
      "outputs": [
        {
          "name": "stdout",
          "output_type": "stream",
          "text": [
            "[[-0.4432654   0.32513554  0.61941338 -0.50166373  0.24992646]\n",
            " [-0.53313979 -0.84083639  0.01631061 -0.07809998 -0.04889265]\n",
            " [-0.497832    0.2725315   0.2186724   0.71963447 -0.33496042]\n",
            " [-0.00757871  0.09648464 -0.05319421 -0.440347   -0.89100964]\n",
            " [-0.52094492  0.32202228 -0.75194002 -0.17451256  0.17043949]]\n",
            "[[-1.71197975 -1.721771   -0.91763767 -1.14596917 -1.48828016]\n",
            " [ 0.          0.18511396  0.15670431 -0.3105988  -0.02561779]\n",
            " [ 0.          0.         -0.56886488  0.09863229 -0.28981768]\n",
            " [ 0.          0.          0.         -0.31671114 -0.28469988]\n",
            " [ 0.          0.          0.          0.         -0.67088305]]\n"
          ]
        }
      ],
      "source": [
        "arr = np.random.rand(5,5)\n",
        "\n",
        "q, r = np.linalg.qr(arr)\n",
        "print(q)\n",
        "print(r)"
      ]
    },
    {
      "cell_type": "markdown",
      "metadata": {
        "id": "SAOKReU8d7Lf"
      },
      "source": [
        "### singular value decomposition (SVD)"
      ]
    },
    {
      "cell_type": "code",
      "execution_count": null,
      "metadata": {
        "id": "nZnGhZZHd7Lf",
        "outputId": "16ad0ace-2b69-4a59-b1b6-bc4b4886eda2"
      },
      "outputs": [
        {
          "name": "stdout",
          "output_type": "stream",
          "text": [
            "[[-0.31707494  0.50745837  0.27489595 -0.52708908 -0.53717669]\n",
            " [-0.467027   -0.43107604  0.5391023  -0.31541122  0.4538102 ]\n",
            " [-0.53255432  0.56212351 -0.33998784  0.16799359  0.50654662]\n",
            " [-0.34108705  0.00379167  0.4323183   0.76786776 -0.32729992]\n",
            " [-0.53046657 -0.49057337 -0.57559542 -0.06964278 -0.37654055]]\n",
            "[2.83737775 0.69055824 0.47487856 0.23943839 0.10871122]\n",
            "[[-0.42059018 -0.38307359 -0.21951733 -0.6476369  -0.45687757]\n",
            " [-0.63976954  0.71850762 -0.25227551  0.00271298  0.10388191]\n",
            " [ 0.20378291  0.23608185 -0.1886435   0.38886392 -0.84613023]\n",
            " [-0.40137463 -0.52295215 -0.41054126  0.61598638  0.13204589]\n",
            " [ 0.45953212  0.08824872 -0.82706633 -0.22339365  0.21702294]]\n"
          ]
        }
      ],
      "source": [
        "arr = np.random.rand(5,5)\n",
        "\n",
        "u, s, v = np.linalg.svd(arr)\n",
        "print(u)\n",
        "print(s)\n",
        "print(v)"
      ]
    },
    {
      "cell_type": "markdown",
      "metadata": {
        "id": "2vVM88Wpd7Lf"
      },
      "source": [
        "### compute eigen values"
      ]
    },
    {
      "cell_type": "code",
      "execution_count": null,
      "metadata": {
        "id": "_pziLdVpd7Lf",
        "outputId": "78356b8e-166b-4a54-9a86-0a98d2f91a41"
      },
      "outputs": [
        {
          "name": "stdout",
          "output_type": "stream",
          "text": [
            "[ 2.85678022 -0.67311818  0.37430308  0.1524331  -0.07643027]\n"
          ]
        }
      ],
      "source": [
        "arr = np.random.rand(5,5)\n",
        "print(np.linalg.eigvals(arr))"
      ]
    },
    {
      "cell_type": "markdown",
      "metadata": {
        "id": "Sd5XVd3Fd7Lf"
      },
      "source": [
        "### eigen value decomposition"
      ]
    },
    {
      "cell_type": "code",
      "execution_count": null,
      "metadata": {
        "id": "Se9ZP513d7Lf",
        "outputId": "7acb45db-e25e-4d02-f702-49a581bd7e82"
      },
      "outputs": [
        {
          "name": "stdout",
          "output_type": "stream",
          "text": [
            "[ 2.76395772+0.j          0.10174612+0.23654886j  0.10174612-0.23654886j\n",
            " -0.52935513+0.05320233j -0.52935513-0.05320233j]\n",
            "[[ 0.27758037+0.j         -0.55997738+0.j         -0.55997738-0.j\n",
            "   0.22379469-0.00692696j  0.22379469+0.00692696j]\n",
            " [ 0.45939229+0.j          0.17076292+0.34885444j  0.17076292-0.34885444j\n",
            "  -0.70496349+0.j         -0.70496349-0.j        ]\n",
            " [ 0.48172485+0.j          0.21554976-0.3991528j   0.21554976+0.3991528j\n",
            "   0.0228234 -0.0005529j   0.0228234 +0.0005529j ]\n",
            " [ 0.48237473+0.j          0.37310246-0.2373618j   0.37310246+0.2373618j\n",
            "   0.12243854-0.18721414j  0.12243854+0.18721414j]\n",
            " [ 0.49715556+0.j         -0.28133211+0.23470715j -0.28133211-0.23470715j\n",
            "   0.60718075+0.18347867j  0.60718075-0.18347867j]]\n"
          ]
        }
      ],
      "source": [
        "arr = np.random.rand(5,5)\n",
        "\n",
        "w, v = np.linalg.eig(arr)\n",
        "print(w)    # eigen values\n",
        "print(v)    # eigen vectors"
      ]
    },
    {
      "cell_type": "markdown",
      "metadata": {
        "id": "8E34x35Ud7Lf"
      },
      "source": [
        "### compute the trace & determinant"
      ]
    },
    {
      "cell_type": "code",
      "execution_count": null,
      "metadata": {
        "id": "SkULuaLSd7Lg",
        "outputId": "36d5629c-0031-42f8-9143-14da51f6e12e"
      },
      "outputs": [
        {
          "name": "stdout",
          "output_type": "stream",
          "text": [
            "1.9087397083691204\n"
          ]
        }
      ],
      "source": [
        "# notice this is not a function in linalg!!!\n",
        "print(np.trace(arr))"
      ]
    },
    {
      "cell_type": "code",
      "execution_count": null,
      "metadata": {
        "id": "ueRXJthRd7Lg",
        "outputId": "fce93da4-1b1a-4e3d-ea2a-78db4bf4f077"
      },
      "outputs": [
        {
          "name": "stdout",
          "output_type": "stream",
          "text": [
            "0.05187451362412388\n"
          ]
        }
      ],
      "source": [
        "print(np.linalg.det(arr))"
      ]
    },
    {
      "cell_type": "markdown",
      "metadata": {
        "id": "c2hhE3ptd7Lg"
      },
      "source": [
        "### calculate the inverse/psedo-inverse of a matrix"
      ]
    },
    {
      "cell_type": "code",
      "execution_count": null,
      "metadata": {
        "id": "izvsw0VRd7Lg"
      },
      "outputs": [],
      "source": [
        "arr = np.random.rand(5,5)"
      ]
    },
    {
      "cell_type": "code",
      "execution_count": null,
      "metadata": {
        "id": "zqKMC70Od7Lg",
        "outputId": "678c2c41-6e2f-41d6-bd6b-ecfcc8c9cf96"
      },
      "outputs": [
        {
          "name": "stdout",
          "output_type": "stream",
          "text": [
            "[[  2.37704915  -2.18278595  14.14976233 -17.3879446   -4.13238747]\n",
            " [ -2.65572368   2.85561316   6.39432678 -11.58940717   1.15627517]\n",
            " [ -0.64187733   2.8106897   11.3550277  -20.17896096  -0.58449384]\n",
            " [  4.52924162  -5.63978854  -0.64934041   4.47682269  -1.75308404]\n",
            " [ -2.16914098   1.49607223 -25.1450202   37.98516176   4.2574866 ]]\n"
          ]
        }
      ],
      "source": [
        "# compute the inverse of a matrix\n",
        "print(np.linalg.inv(arr))"
      ]
    },
    {
      "cell_type": "code",
      "execution_count": null,
      "metadata": {
        "id": "gtRSijdtd7Lg",
        "outputId": "e27a7df7-d2f0-4e9d-dd88-e39e4a4f22e0"
      },
      "outputs": [
        {
          "name": "stdout",
          "output_type": "stream",
          "text": [
            "[[  2.37704915  -2.18278595  14.14976233 -17.3879446   -4.13238747]\n",
            " [ -2.65572368   2.85561316   6.39432678 -11.58940717   1.15627517]\n",
            " [ -0.64187733   2.8106897   11.3550277  -20.17896096  -0.58449384]\n",
            " [  4.52924162  -5.63978854  -0.64934041   4.47682269  -1.75308404]\n",
            " [ -2.16914098   1.49607223 -25.1450202   37.98516176   4.2574866 ]]\n"
          ]
        }
      ],
      "source": [
        "# compute the psudo-inverse of a matrix\n",
        "print(np.linalg.pinv(arr))"
      ]
    },
    {
      "cell_type": "markdown",
      "metadata": {
        "id": "SnBw2l2Vd7Lg"
      },
      "source": [
        "### solve a linear system"
      ]
    },
    {
      "cell_type": "code",
      "execution_count": null,
      "metadata": {
        "id": "mhAgMM8hd7Lg",
        "outputId": "9ea2e29b-6da0-4ce2-f569-c1482ee53172"
      },
      "outputs": [
        {
          "name": "stdout",
          "output_type": "stream",
          "text": [
            "[-49.75295153 -18.33776982 -44.59372785   0.44351389  98.61602289]\n"
          ]
        }
      ],
      "source": [
        "# solve a linear system in closed form\n",
        "y = [1,2,3,4,5]\n",
        "print(np.linalg.solve(arr, y))"
      ]
    },
    {
      "cell_type": "code",
      "execution_count": null,
      "metadata": {
        "id": "2qQvjSr0d7Lh",
        "outputId": "a5f095d7-5808-4fc2-9fd7-748c436fea3e"
      },
      "outputs": [
        {
          "name": "stdout",
          "output_type": "stream",
          "text": [
            "[-49.75295153 -18.33776982 -44.59372785   0.44351389  98.61602289]\n",
            "[]\n",
            "5\n",
            "[2.21809418 0.85765544 0.52823685 0.09333081 0.0173482 ]\n"
          ]
        },
        {
          "name": "stderr",
          "output_type": "stream",
          "text": [
            "C:\\Users\\ewang\\AppData\\Local\\Continuum\\miniconda3\\lib\\site-packages\\ipykernel_launcher.py:3: FutureWarning: `rcond` parameter will change to the default of machine precision times ``max(M, N)`` where M and N are the input matrix dimensions.\n",
            "To use the future default and silence this warning we advise to pass `rcond=None`, to keep using the old, explicitly pass `rcond=-1`.\n",
            "  This is separate from the ipykernel package so we can avoid doing imports until\n"
          ]
        }
      ],
      "source": [
        "# calculate the least-squares solution of a linear system\n",
        "y = [1,2,3,4,5]\n",
        "solution, residuals, rank, singular = np.linalg.lstsq(arr, y)\n",
        "print(solution)\n",
        "print(residuals)\n",
        "print(rank)\n",
        "print(singular)"
      ]
    }
  ],
  "metadata": {
    "kernelspec": {
      "display_name": "Python 3",
      "language": "python",
      "name": "python3"
    },
    "language_info": {
      "codemirror_mode": {
        "name": "ipython",
        "version": 3
      },
      "file_extension": ".py",
      "mimetype": "text/x-python",
      "name": "python",
      "nbconvert_exporter": "python",
      "pygments_lexer": "ipython3",
      "version": "3.8.5"
    },
    "toc": {
      "base_numbering": 1,
      "nav_menu": {},
      "number_sections": true,
      "sideBar": true,
      "skip_h1_title": false,
      "title_cell": "Table of Contents",
      "title_sidebar": "Contents",
      "toc_cell": false,
      "toc_position": {},
      "toc_section_display": true,
      "toc_window_display": false
    },
    "varInspector": {
      "cols": {
        "lenName": 16,
        "lenType": 16,
        "lenVar": 40
      },
      "kernels_config": {
        "python": {
          "delete_cmd_postfix": "",
          "delete_cmd_prefix": "del ",
          "library": "var_list.py",
          "varRefreshCmd": "print(var_dic_list())"
        },
        "r": {
          "delete_cmd_postfix": ") ",
          "delete_cmd_prefix": "rm(",
          "library": "var_list.r",
          "varRefreshCmd": "cat(var_dic_list()) "
        }
      },
      "types_to_exclude": [
        "module",
        "function",
        "builtin_function_or_method",
        "instance",
        "_Feature"
      ],
      "window_display": false
    },
    "colab": {
      "provenance": []
    }
  },
  "nbformat": 4,
  "nbformat_minor": 0
}