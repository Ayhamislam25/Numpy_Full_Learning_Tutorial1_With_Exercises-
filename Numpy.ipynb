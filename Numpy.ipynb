{
 "cells": [
  {
   "cell_type": "code",
   "execution_count": 4,
   "id": "d3773fd7",
   "metadata": {},
   "outputs": [],
   "source": [
    "import math\n",
    "import numpy as np\n",
    "import pandas as pd"
   ]
  },
  {
   "cell_type": "code",
   "execution_count": 2,
   "id": "e6eb52ed",
   "metadata": {},
   "outputs": [
    {
     "name": "stdout",
     "output_type": "stream",
     "text": [
      "3.141592653589793\n"
     ]
    }
   ],
   "source": [
    "print(math.pi)"
   ]
  },
  {
   "cell_type": "code",
   "execution_count": 5,
   "id": "3544b8a9",
   "metadata": {},
   "outputs": [
    {
     "name": "stdout",
     "output_type": "stream",
     "text": [
      "[[1 2 3]\n",
      " [4 5 6]]\n"
     ]
    }
   ],
   "source": [
    "arr=np.array([[1,2,3],[4,5,6]])\n",
    "print(arr)"
   ]
  },
  {
   "cell_type": "code",
   "execution_count": 11,
   "id": "c3ae39ea",
   "metadata": {},
   "outputs": [
    {
     "data": {
      "text/plain": [
       "dtype('float32')"
      ]
     },
     "execution_count": 11,
     "metadata": {},
     "output_type": "execute_result"
    }
   ],
   "source": [
    "arr=np.array([1,2,'3'],dtype='float32')\n",
    "arr[2]+3\n",
    "arr.dtype"
   ]
  },
  {
   "cell_type": "code",
   "execution_count": 12,
   "id": "e7d6ca0c",
   "metadata": {},
   "outputs": [],
   "source": [
    "arr=np.array(['5','6','7','8'],dtype='int16')"
   ]
  },
  {
   "cell_type": "code",
   "execution_count": 13,
   "id": "ee7e0e40",
   "metadata": {},
   "outputs": [
    {
     "data": {
      "text/plain": [
       "dtype('int16')"
      ]
     },
     "execution_count": 13,
     "metadata": {},
     "output_type": "execute_result"
    }
   ],
   "source": [
    "arr.dtype"
   ]
  },
  {
   "cell_type": "code",
   "execution_count": 14,
   "id": "a3e9c37a",
   "metadata": {},
   "outputs": [
    {
     "data": {
      "text/plain": [
       "5"
      ]
     },
     "execution_count": 14,
     "metadata": {},
     "output_type": "execute_result"
    }
   ],
   "source": [
    "arr[0]"
   ]
  },
  {
   "cell_type": "code",
   "execution_count": 19,
   "id": "b0518856",
   "metadata": {},
   "outputs": [],
   "source": [
    "arr=arr.astype(np.float32)"
   ]
  },
  {
   "cell_type": "code",
   "execution_count": 20,
   "id": "23294e93",
   "metadata": {},
   "outputs": [
    {
     "data": {
      "text/plain": [
       "dtype('float32')"
      ]
     },
     "execution_count": 20,
     "metadata": {},
     "output_type": "execute_result"
    }
   ],
   "source": [
    "arr.dtype"
   ]
  },
  {
   "cell_type": "code",
   "execution_count": 22,
   "id": "91d7bdf0",
   "metadata": {},
   "outputs": [
    {
     "name": "stdout",
     "output_type": "stream",
     "text": [
      "dtype of array is <U5\n"
     ]
    }
   ],
   "source": [
    "arr=np.array(['ayham','Ahmed','Islam'],dtype=np.unicode_)\n",
    "print(f'dtype of array is {arr.dtype}')"
   ]
  },
  {
   "cell_type": "code",
   "execution_count": 23,
   "id": "e00865ab",
   "metadata": {},
   "outputs": [
    {
     "name": "stdout",
     "output_type": "stream",
     "text": [
      "[ 1  2  3 45]\n"
     ]
    },
    {
     "data": {
      "text/plain": [
       "numpy.ndarray"
      ]
     },
     "execution_count": 23,
     "metadata": {},
     "output_type": "execute_result"
    }
   ],
   "source": [
    "arr=np.array([1,2,3,45])\n",
    "print(arr)\n",
    "type(arr)"
   ]
  },
  {
   "cell_type": "code",
   "execution_count": 26,
   "id": "6b522a58",
   "metadata": {},
   "outputs": [
    {
     "name": "stdout",
     "output_type": "stream",
     "text": [
      "[1 2 3 4]\n"
     ]
    },
    {
     "data": {
      "text/plain": [
       "numpy.ndarray"
      ]
     },
     "execution_count": 26,
     "metadata": {},
     "output_type": "execute_result"
    }
   ],
   "source": [
    "arr=np.array((1,2,3,4))\n",
    "print(arr)\n",
    "type(arr)"
   ]
  },
  {
   "cell_type": "code",
   "execution_count": 27,
   "id": "06d944c6",
   "metadata": {},
   "outputs": [],
   "source": [
    "arr=np.arange(0,12,2)"
   ]
  },
  {
   "cell_type": "code",
   "execution_count": 28,
   "id": "aac9c5d5",
   "metadata": {},
   "outputs": [
    {
     "data": {
      "text/plain": [
       "array([ 0,  2,  4,  6,  8, 10])"
      ]
     },
     "execution_count": 28,
     "metadata": {},
     "output_type": "execute_result"
    }
   ],
   "source": [
    "arr\n"
   ]
  },
  {
   "cell_type": "code",
   "execution_count": 29,
   "id": "512f483e",
   "metadata": {},
   "outputs": [
    {
     "data": {
      "text/plain": [
       "array([ 0.,  2.,  4.,  6.,  8., 10.], dtype=float32)"
      ]
     },
     "execution_count": 29,
     "metadata": {},
     "output_type": "execute_result"
    }
   ],
   "source": [
    "arr.astype(np.float32)"
   ]
  },
  {
   "cell_type": "code",
   "execution_count": 37,
   "id": "86e02d2c",
   "metadata": {},
   "outputs": [],
   "source": [
    "arr,step_size=np.linspace(0,20,10,endpoint=False,retstep=True)"
   ]
  },
  {
   "cell_type": "code",
   "execution_count": 38,
   "id": "fee6aabb",
   "metadata": {},
   "outputs": [
    {
     "name": "stdout",
     "output_type": "stream",
     "text": [
      "[ 0.  2.  4.  6.  8. 10. 12. 14. 16. 18.]\n",
      "10\n",
      "The step size is 2.0\n"
     ]
    }
   ],
   "source": [
    "print(arr)\n",
    "print(arr.size)\n",
    "print('The step size is ' + str(step_size))"
   ]
  },
  {
   "cell_type": "code",
   "execution_count": 44,
   "id": "864f5acd",
   "metadata": {},
   "outputs": [
    {
     "name": "stdout",
     "output_type": "stream",
     "text": [
      "[[0.04145243 0.89471027 0.32028473]\n",
      " [0.1146585  0.84534136 0.55898039]\n",
      " [0.59464944 0.13606323 0.11286878]]\n"
     ]
    }
   ],
   "source": [
    "\n",
    "arr=np.random.rand(3,3)\n",
    "print(arr)"
   ]
  },
  {
   "cell_type": "code",
   "execution_count": 50,
   "id": "2c9d0963",
   "metadata": {},
   "outputs": [
    {
     "name": "stdout",
     "output_type": "stream",
     "text": [
      "[[0 0]\n",
      " [0 0]\n",
      " [0 0]]\n",
      "Data Type: int32\n"
     ]
    }
   ],
   "source": [
    "arr2 = np.array([[1,2], [3,4],[5,6]], dtype='i4')\n",
    "zeros = np.zeros_like(arr2)\n",
    "print(zeros)\n",
    "print('Data Type: ' + str(zeros.dtype))"
   ]
  },
  {
   "cell_type": "code",
   "execution_count": 48,
   "id": "5b5b4629",
   "metadata": {},
   "outputs": [
    {
     "name": "stdout",
     "output_type": "stream",
     "text": [
      "[[6.23042070e-307 3.56043053e-307 1.60219306e-306 7.56571288e-307\n",
      "  1.89146896e-307]\n",
      " [1.37961302e-306 1.05699242e-307 8.01097889e-307 1.78020169e-306\n",
      "  7.56601165e-307]\n",
      " [1.02359984e-306 1.15710088e-306 6.23056330e-307 1.60219578e-306\n",
      "  7.56601165e-307]\n",
      " [6.23061763e-307 9.34607074e-307 8.90098127e-307 8.90108313e-307\n",
      "  6.23053954e-307]\n",
      " [1.86919513e-306 1.11261570e-306 1.42410974e-306 3.39986383e-317\n",
      "  3.20558931e-317]]\n"
     ]
    }
   ],
   "source": [
    "arr=np.empty((5,5))\n",
    "print(arr)"
   ]
  },
  {
   "cell_type": "code",
   "execution_count": 60,
   "id": "2526401c",
   "metadata": {},
   "outputs": [],
   "source": [
    "arr=np.empty_like(arr)"
   ]
  },
  {
   "cell_type": "code",
   "execution_count": 61,
   "id": "ac116695",
   "metadata": {},
   "outputs": [
    {
     "data": {
      "text/plain": [
       "array([[[-1056214752,  1067792704,  1818408969],\n",
       "        [ 1072472439, -2109806144,  1070890891]],\n",
       "\n",
       "       [[ 1809146448,  1069374018,  1366206829],\n",
       "        [ 1072368905,  -713195470,  1071768362]],\n",
       "\n",
       "       [[ 1111400876,  1071843166,   602358316],\n",
       "        [ 1069640325,  -557695016,  1069343991]]])"
      ]
     },
     "execution_count": 61,
     "metadata": {},
     "output_type": "execute_result"
    }
   ],
   "source": [
    "arr"
   ]
  },
  {
   "cell_type": "code",
   "execution_count": 55,
   "id": "76b573a0",
   "metadata": {},
   "outputs": [
    {
     "name": "stdout",
     "output_type": "stream",
     "text": [
      "(3, 2)\n"
     ]
    }
   ],
   "source": [
    "print(arr.shape)"
   ]
  },
  {
   "cell_type": "code",
   "execution_count": 58,
   "id": "079b2127",
   "metadata": {},
   "outputs": [],
   "source": [
    "arr=np.array([ [[4,5,6],[8,9,9]] , [[8,10,12],[3,3,4]] ,[ [13,14,5],[15,6,8]]])"
   ]
  },
  {
   "cell_type": "code",
   "execution_count": 59,
   "id": "cf5fc16a",
   "metadata": {},
   "outputs": [
    {
     "data": {
      "text/plain": [
       "(3, 2, 3)"
      ]
     },
     "execution_count": 59,
     "metadata": {},
     "output_type": "execute_result"
    }
   ],
   "source": [
    "arr.shape"
   ]
  },
  {
   "cell_type": "code",
   "execution_count": 63,
   "id": "1c536e4c",
   "metadata": {},
   "outputs": [],
   "source": [
    "arr=np.array([ [3,5,6],[6,7,8] ])"
   ]
  },
  {
   "cell_type": "code",
   "execution_count": 64,
   "id": "b8bde1d4",
   "metadata": {},
   "outputs": [
    {
     "data": {
      "text/plain": [
       "6"
      ]
     },
     "execution_count": 64,
     "metadata": {},
     "output_type": "execute_result"
    }
   ],
   "source": [
    "arr.size"
   ]
  },
  {
   "cell_type": "code",
   "execution_count": 65,
   "id": "8461e5cd",
   "metadata": {},
   "outputs": [
    {
     "data": {
      "text/plain": [
       "(2, 3)"
      ]
     },
     "execution_count": 65,
     "metadata": {},
     "output_type": "execute_result"
    }
   ],
   "source": [
    "arr.shape"
   ]
  },
  {
   "cell_type": "code",
   "execution_count": 66,
   "id": "0b5a3c8d",
   "metadata": {},
   "outputs": [
    {
     "data": {
      "text/plain": [
       "array([0.99149848, 0.07858399, 0.96404695])"
      ]
     },
     "execution_count": 66,
     "metadata": {},
     "output_type": "execute_result"
    }
   ],
   "source": [
    "np.random.rand(3)"
   ]
  },
  {
   "cell_type": "code",
   "execution_count": 68,
   "id": "a2617616",
   "metadata": {},
   "outputs": [
    {
     "data": {
      "text/plain": [
       "array([0.19445006, 0.25121038, 0.75841639, 0.55761859])"
      ]
     },
     "execution_count": 68,
     "metadata": {},
     "output_type": "execute_result"
    }
   ],
   "source": [
    "#np.random.seed(66)\n",
    "np.random.rand(4)"
   ]
  },
  {
   "cell_type": "code",
   "execution_count": 84,
   "id": "8a613bf1",
   "metadata": {},
   "outputs": [
    {
     "data": {
      "text/plain": [
       "array([11, 12, 13, 14, 15, 16, 18, 18, 18, 19])"
      ]
     },
     "execution_count": 84,
     "metadata": {},
     "output_type": "execute_result"
    }
   ],
   "source": [
    "arr=np.random.randint(10,20,10,'i4')\n",
    "arr\n",
    "arr=np.sort(arr)\n",
    "arr"
   ]
  },
  {
   "cell_type": "code",
   "execution_count": 85,
   "id": "85cf5620",
   "metadata": {},
   "outputs": [
    {
     "name": "stdout",
     "output_type": "stream",
     "text": [
      "None\n"
     ]
    }
   ],
   "source": [
    "arr2=np.random.shuffle(arr)\n",
    "print(arr2)"
   ]
  },
  {
   "cell_type": "code",
   "execution_count": 81,
   "id": "7f4cf7f4",
   "metadata": {},
   "outputs": [
    {
     "name": "stdout",
     "output_type": "stream",
     "text": [
      "[0 1 2 3 4 5 6 7 8 9]\n"
     ]
    }
   ],
   "source": [
    "arr = np.array(range(10))\n",
    "print(arr)"
   ]
  },
  {
   "cell_type": "code",
   "execution_count": 82,
   "id": "0d7c4659",
   "metadata": {},
   "outputs": [
    {
     "name": "stdout",
     "output_type": "stream",
     "text": [
      "[0 8 3 2 7 5 1 9 4 6]\n"
     ]
    }
   ],
   "source": [
    "np.random.shuffle(arr)\n",
    "print(arr)"
   ]
  },
  {
   "cell_type": "code",
   "execution_count": 86,
   "id": "0f8a5ee6",
   "metadata": {},
   "outputs": [
    {
     "data": {
      "text/plain": [
       "array([[0.75254355, 0.86743047, 0.24041374, 0.49507776, 0.81924134],\n",
       "       [0.82346043, 0.58259036, 0.22049671, 0.46511899, 0.2684468 ],\n",
       "       [0.66264009, 0.60258084, 0.27634671, 0.33124961, 0.62496736],\n",
       "       [0.41399645, 0.20195307, 0.59583513, 0.5272244 , 0.91850237],\n",
       "       [0.03311538, 0.36905421, 0.4713992 , 0.26836313, 0.88105958]])"
      ]
     },
     "execution_count": 86,
     "metadata": {},
     "output_type": "execute_result"
    }
   ],
   "source": [
    "arr=np.random.rand(5,5)\n",
    "arr"
   ]
  },
  {
   "cell_type": "code",
   "execution_count": 88,
   "id": "d44f4f66",
   "metadata": {},
   "outputs": [
    {
     "data": {
      "text/plain": [
       "array([2, 4, 6])"
      ]
     },
     "execution_count": 88,
     "metadata": {},
     "output_type": "execute_result"
    }
   ],
   "source": [
    "arr=np.array([1,2,3])\n",
    "np.add(arr,[1,2,3],out=arr)\n",
    "arr\n"
   ]
  },
  {
   "cell_type": "code",
   "execution_count": 89,
   "id": "0ec8ea29",
   "metadata": {},
   "outputs": [
    {
     "data": {
      "text/plain": [
       "array([1, 2, 3])"
      ]
     },
     "execution_count": 89,
     "metadata": {},
     "output_type": "execute_result"
    }
   ],
   "source": [
    "np.subtract(arr,[1,2,3],out=arr)"
   ]
  },
  {
   "cell_type": "code",
   "execution_count": 94,
   "id": "d8fe3f8b",
   "metadata": {},
   "outputs": [
    {
     "data": {
      "text/plain": [
       "array([[0.62620357, 0.89707165, 0.56546105, 0.69496209, 0.95649468],\n",
       "       [0.29066945, 0.91653871, 0.61371532, 0.13837961, 0.06233661],\n",
       "       [0.68056494, 0.01482088, 0.46059883, 0.02922097, 0.66343876],\n",
       "       [0.47519173, 0.32918482, 0.7343371 , 0.06066645, 0.12548368],\n",
       "       [0.55758925, 0.70146589, 0.02238126, 0.4294336 , 0.26228598]])"
      ]
     },
     "execution_count": 94,
     "metadata": {},
     "output_type": "execute_result"
    }
   ],
   "source": [
    "arr1=np.random.rand(5,5)\n",
    "arr1"
   ]
  },
  {
   "cell_type": "code",
   "execution_count": 92,
   "id": "7ebf3fe9",
   "metadata": {},
   "outputs": [
    {
     "data": {
      "text/plain": [
       "array([[1.71167536, 1.33993126, 1.05708269, 2.68810964, 2.64464716],\n",
       "       [1.55916484, 2.50458768, 1.03901905, 1.46510617, 1.3018903 ],\n",
       "       [2.24275276, 2.17205434, 2.10271634, 1.86736999, 1.271721  ],\n",
       "       [2.39104508, 1.063788  , 1.05229294, 1.51498074, 2.59222367],\n",
       "       [1.11213092, 2.71158509, 1.11362444, 2.43175856, 1.06237881]])"
      ]
     },
     "execution_count": 92,
     "metadata": {},
     "output_type": "execute_result"
    }
   ],
   "source": [
    "np.exp(arr1)"
   ]
  },
  {
   "cell_type": "code",
   "execution_count": 95,
   "id": "5eb419f8",
   "metadata": {},
   "outputs": [
    {
     "data": {
      "text/plain": [
       "array([[0.62620357, 0.89707165, 0.56546105, 0.69496209, 0.95649468],\n",
       "       [0.29066945, 0.91653871, 0.61371532, 0.13837961, 0.06233661],\n",
       "       [0.68056494, 0.01482088, 0.46059883, 0.02922097, 0.66343876],\n",
       "       [0.47519173, 0.32918482, 0.7343371 , 0.06066645, 0.12548368],\n",
       "       [0.55758925, 0.70146589, 0.02238126, 0.4294336 , 0.26228598]])"
      ]
     },
     "execution_count": 95,
     "metadata": {},
     "output_type": "execute_result"
    }
   ],
   "source": [
    "arr1"
   ]
  },
  {
   "cell_type": "code",
   "execution_count": 96,
   "id": "a3bacd6c",
   "metadata": {},
   "outputs": [],
   "source": [
    "arr1=np.sqrt(arr1)"
   ]
  },
  {
   "cell_type": "code",
   "execution_count": 97,
   "id": "a3b63706",
   "metadata": {},
   "outputs": [
    {
     "data": {
      "text/plain": [
       "array([[0.79133026, 0.94713866, 0.75197144, 0.83364386, 0.97800546],\n",
       "       [0.53913769, 0.95736028, 0.78339985, 0.3719941 , 0.24967301],\n",
       "       [0.8249636 , 0.12174104, 0.67867432, 0.17094143, 0.8145175 ],\n",
       "       [0.68934152, 0.5737463 , 0.85693471, 0.24630559, 0.35423676],\n",
       "       [0.74671899, 0.8375356 , 0.14960369, 0.65531183, 0.51213863]])"
      ]
     },
     "execution_count": 97,
     "metadata": {},
     "output_type": "execute_result"
    }
   ],
   "source": [
    "arr1"
   ]
  },
  {
   "cell_type": "code",
   "execution_count": 98,
   "id": "ae636dbd",
   "metadata": {},
   "outputs": [
    {
     "data": {
      "text/plain": [
       "array([3.59149206, 3.43752189, 3.22058402, 2.27819682, 2.90857137])"
      ]
     },
     "execution_count": 98,
     "metadata": {},
     "output_type": "execute_result"
    }
   ],
   "source": [
    "np.sum(arr1,axis=0)"
   ]
  },
  {
   "cell_type": "code",
   "execution_count": 99,
   "id": "177998b7",
   "metadata": {},
   "outputs": [
    {
     "data": {
      "text/plain": [
       "array([4.30208968, 2.90156493, 2.61083789, 2.7205649 , 2.90130875])"
      ]
     },
     "execution_count": 99,
     "metadata": {},
     "output_type": "execute_result"
    }
   ],
   "source": [
    "np.sum(arr1,axis=1)"
   ]
  },
  {
   "cell_type": "code",
   "execution_count": 101,
   "id": "03911026",
   "metadata": {},
   "outputs": [],
   "source": [
    "arr1=np.sum(arr1,axis=1)"
   ]
  },
  {
   "cell_type": "code",
   "execution_count": 103,
   "id": "321a5e5a",
   "metadata": {},
   "outputs": [
    {
     "data": {
      "text/plain": [
       "5"
      ]
     },
     "execution_count": 103,
     "metadata": {},
     "output_type": "execute_result"
    }
   ],
   "source": [
    "arr1.size"
   ]
  },
  {
   "cell_type": "code",
   "execution_count": 104,
   "id": "d5bac97c",
   "metadata": {},
   "outputs": [
    {
     "data": {
      "text/plain": [
       "array([4.30208968, 2.90156493, 2.61083789, 2.7205649 , 2.90130875])"
      ]
     },
     "execution_count": 104,
     "metadata": {},
     "output_type": "execute_result"
    }
   ],
   "source": [
    "arr1"
   ]
  },
  {
   "cell_type": "code",
   "execution_count": 107,
   "id": "fbda4071",
   "metadata": {},
   "outputs": [],
   "source": [
    "arr=np.array(range(100)).reshape(10,10)"
   ]
  },
  {
   "cell_type": "code",
   "execution_count": 108,
   "id": "7475c776",
   "metadata": {},
   "outputs": [
    {
     "name": "stdout",
     "output_type": "stream",
     "text": [
      "55\n"
     ]
    }
   ],
   "source": [
    "print(arr[5,5])"
   ]
  },
  {
   "cell_type": "code",
   "execution_count": 109,
   "id": "f70d15a7",
   "metadata": {},
   "outputs": [
    {
     "name": "stdout",
     "output_type": "stream",
     "text": [
      "[[10 11 12 13 14 15 16 17 18 19]\n",
      " [20 21 22 23 24 25 26 27 28 29]]\n"
     ]
    }
   ],
   "source": [
    "print(arr[1:3,:])"
   ]
  },
  {
   "cell_type": "code",
   "execution_count": 117,
   "id": "caf83002",
   "metadata": {},
   "outputs": [
    {
     "name": "stdout",
     "output_type": "stream",
     "text": [
      "[[ 0  1  2  3]\n",
      " [ 4  5  6  7]\n",
      " [ 8  9 10 11]\n",
      " [12 13 14 15]]\n"
     ]
    }
   ],
   "source": [
    "arr1=np.arange(16).reshape(4,4)\n",
    "print(arr1)"
   ]
  },
  {
   "cell_type": "code",
   "execution_count": 129,
   "id": "3e6bcc5e",
   "metadata": {},
   "outputs": [
    {
     "name": "stdout",
     "output_type": "stream",
     "text": [
      "[[ 0  1  2]\n",
      " [ 4  5  6]\n",
      " [ 8  9 10]]\n",
      "[[ 0  1  2]\n",
      " [ 4  5  6]\n",
      " [ 8  9 10]]\n"
     ]
    }
   ],
   "source": [
    "print(arr1[[0,1,2]][:, [0,1,2]])  \n",
    "print(arr1[[0,1,2]][:,[0,1,2]])"
   ]
  },
  {
   "cell_type": "code",
   "execution_count": 131,
   "id": "3cfa17c6",
   "metadata": {},
   "outputs": [
    {
     "name": "stdout",
     "output_type": "stream",
     "text": [
      "[ 5 10 15]\n"
     ]
    }
   ],
   "source": [
    "print(arr1[[1,2,3],[1,2,3]])"
   ]
  },
  {
   "cell_type": "code",
   "execution_count": 132,
   "id": "3f83998f",
   "metadata": {},
   "outputs": [
    {
     "data": {
      "text/plain": [
       "array([[ 0,  1,  2,  3],\n",
       "       [ 4,  5,  6,  7],\n",
       "       [ 8,  9, 10, 11],\n",
       "       [12, 13, 14, 15]])"
      ]
     },
     "execution_count": 132,
     "metadata": {},
     "output_type": "execute_result"
    }
   ],
   "source": [
    "arr1"
   ]
  },
  {
   "cell_type": "code",
   "execution_count": 138,
   "id": "ddf1f7db",
   "metadata": {},
   "outputs": [
    {
     "name": "stdout",
     "output_type": "stream",
     "text": [
      "[[ 5  6  7]\n",
      " [ 9 10 11]\n",
      " [13 14 15]]\n"
     ]
    }
   ],
   "source": [
    "print(arr1[ [1,2,3] [:]][:,[1,2,3]])"
   ]
  },
  {
   "cell_type": "code",
   "execution_count": 143,
   "id": "eda36ae3",
   "metadata": {},
   "outputs": [
    {
     "data": {
      "text/plain": [
       "array([[10, 11, 12, 13, 14],\n",
       "       [20, 21, 22, 23, 24],\n",
       "       [15, 16, 17, 18, 19],\n",
       "       [ 0,  1,  2,  3,  4],\n",
       "       [ 5,  6,  7,  8,  9]])"
      ]
     },
     "execution_count": 143,
     "metadata": {},
     "output_type": "execute_result"
    }
   ],
   "source": [
    "arr=np.arange(25).reshape(5,5)\n",
    "np.random.shuffle(arr)\n",
    "arr"
   ]
  },
  {
   "cell_type": "code",
   "execution_count": 147,
   "id": "c3522333",
   "metadata": {},
   "outputs": [
    {
     "data": {
      "text/plain": [
       "array([[ 0,  1,  2,  3,  4],\n",
       "       [ 5,  6,  7,  8,  9],\n",
       "       [10, 11, 12, 13, 14],\n",
       "       [15, 16, 17, 18, 19],\n",
       "       [20, 21, 22, 23, 24]])"
      ]
     },
     "execution_count": 147,
     "metadata": {},
     "output_type": "execute_result"
    }
   ],
   "source": [
    "np.sort(arr,axis=0)"
   ]
  },
  {
   "cell_type": "code",
   "execution_count": 149,
   "id": "acd60a06",
   "metadata": {},
   "outputs": [],
   "source": [
    "arr.sort(axis=0)"
   ]
  },
  {
   "cell_type": "code",
   "execution_count": 150,
   "id": "f6774664",
   "metadata": {},
   "outputs": [
    {
     "data": {
      "text/plain": [
       "array([[ 0,  1,  2,  3,  4],\n",
       "       [ 5,  6,  7,  8,  9],\n",
       "       [10, 11, 12, 13, 14],\n",
       "       [15, 16, 17, 18, 19],\n",
       "       [20, 21, 22, 23, 24]])"
      ]
     },
     "execution_count": 150,
     "metadata": {},
     "output_type": "execute_result"
    }
   ],
   "source": [
    "arr"
   ]
  },
  {
   "cell_type": "code",
   "execution_count": 153,
   "id": "ff577e71",
   "metadata": {},
   "outputs": [],
   "source": [
    "newarr=np.array([[3,10,30],[50,80,60,],[8,9,10]])"
   ]
  },
  {
   "cell_type": "code",
   "execution_count": 154,
   "id": "83f992ed",
   "metadata": {},
   "outputs": [
    {
     "data": {
      "text/plain": [
       "array([[ 3, 10, 30],\n",
       "       [50, 60, 80],\n",
       "       [ 8,  9, 10]])"
      ]
     },
     "execution_count": 154,
     "metadata": {},
     "output_type": "execute_result"
    }
   ],
   "source": [
    "newarr=np.sort(newarr)\n",
    "newarr"
   ]
  },
  {
   "cell_type": "code",
   "execution_count": 155,
   "id": "e255efe2",
   "metadata": {},
   "outputs": [],
   "source": [
    "newarr=newarr.flatten()"
   ]
  },
  {
   "cell_type": "code",
   "execution_count": 156,
   "id": "e4e2bfca",
   "metadata": {},
   "outputs": [
    {
     "data": {
      "text/plain": [
       "array([ 3, 10, 30, 50, 60, 80,  8,  9, 10])"
      ]
     },
     "execution_count": 156,
     "metadata": {},
     "output_type": "execute_result"
    }
   ],
   "source": [
    "newarr"
   ]
  },
  {
   "cell_type": "code",
   "execution_count": 157,
   "id": "e38ecfdb",
   "metadata": {},
   "outputs": [],
   "source": [
    "arr2=np.array([1,2,3,4])\n"
   ]
  },
  {
   "cell_type": "code",
   "execution_count": 158,
   "id": "39d0c1cb",
   "metadata": {},
   "outputs": [],
   "source": [
    "arr3=arr2"
   ]
  },
  {
   "cell_type": "code",
   "execution_count": 159,
   "id": "eb9028f4",
   "metadata": {},
   "outputs": [
    {
     "data": {
      "text/plain": [
       "array([1, 2, 3, 4])"
      ]
     },
     "execution_count": 159,
     "metadata": {},
     "output_type": "execute_result"
    }
   ],
   "source": [
    "arr3"
   ]
  },
  {
   "cell_type": "code",
   "execution_count": 160,
   "id": "c96d995e",
   "metadata": {},
   "outputs": [],
   "source": [
    "arr2[0]=8"
   ]
  },
  {
   "cell_type": "code",
   "execution_count": 161,
   "id": "e8522c81",
   "metadata": {},
   "outputs": [
    {
     "data": {
      "text/plain": [
       "array([8, 2, 3, 4])"
      ]
     },
     "execution_count": 161,
     "metadata": {},
     "output_type": "execute_result"
    }
   ],
   "source": [
    "arr3"
   ]
  },
  {
   "cell_type": "code",
   "execution_count": 162,
   "id": "2977940e",
   "metadata": {},
   "outputs": [
    {
     "data": {
      "text/plain": [
       "array([8, 2, 3, 4])"
      ]
     },
     "execution_count": 162,
     "metadata": {},
     "output_type": "execute_result"
    }
   ],
   "source": [
    "arr2"
   ]
  },
  {
   "cell_type": "code",
   "execution_count": 163,
   "id": "1cbef4ef",
   "metadata": {},
   "outputs": [],
   "source": [
    "arr3=np.copy(arr2)"
   ]
  },
  {
   "cell_type": "code",
   "execution_count": 164,
   "id": "b18dfb94",
   "metadata": {},
   "outputs": [
    {
     "data": {
      "text/plain": [
       "array([8, 2, 3, 4])"
      ]
     },
     "execution_count": 164,
     "metadata": {},
     "output_type": "execute_result"
    }
   ],
   "source": [
    "arr3"
   ]
  },
  {
   "cell_type": "code",
   "execution_count": 165,
   "id": "fb0a553e",
   "metadata": {},
   "outputs": [],
   "source": [
    "arr3[0]=10"
   ]
  },
  {
   "cell_type": "code",
   "execution_count": 166,
   "id": "074afd8d",
   "metadata": {},
   "outputs": [
    {
     "data": {
      "text/plain": [
       "array([10,  2,  3,  4])"
      ]
     },
     "execution_count": 166,
     "metadata": {},
     "output_type": "execute_result"
    }
   ],
   "source": [
    "arr3"
   ]
  },
  {
   "cell_type": "code",
   "execution_count": 167,
   "id": "c2a1cade",
   "metadata": {},
   "outputs": [
    {
     "data": {
      "text/plain": [
       "array([8, 2, 3, 4])"
      ]
     },
     "execution_count": 167,
     "metadata": {},
     "output_type": "execute_result"
    }
   ],
   "source": [
    "arr2"
   ]
  },
  {
   "cell_type": "code",
   "execution_count": null,
   "id": "38de2ba7",
   "metadata": {},
   "outputs": [],
   "source": []
  }
 ],
 "metadata": {
  "kernelspec": {
   "display_name": "Python 3 (ipykernel)",
   "language": "python",
   "name": "python3"
  },
  "language_info": {
   "codemirror_mode": {
    "name": "ipython",
    "version": 3
   },
   "file_extension": ".py",
   "mimetype": "text/x-python",
   "name": "python",
   "nbconvert_exporter": "python",
   "pygments_lexer": "ipython3",
   "version": "3.9.12"
  }
 },
 "nbformat": 4,
 "nbformat_minor": 5
}
